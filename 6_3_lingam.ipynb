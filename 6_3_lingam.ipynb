{
  "nbformat": 4,
  "nbformat_minor": 0,
  "metadata": {
    "kernelspec": {
      "name": "python3",
      "display_name": "Python 3"
    },
    "colab": {
      "name": "6_3_lingam.ipynb",
      "provenance": [],
      "collapsed_sections": []
    }
  },
  "cells": [
    {
      "cell_type": "markdown",
      "metadata": {
        "id": "5-FKx0scdZyU",
        "colab_type": "text"
      },
      "source": [
        "# 6.3 LinGAMを用いた因果探索\n",
        "\n",
        "本ファイルは、6.3節の内容となります。LiNGAMを実装しながらその内容の理解を深めていきます。"
      ]
    },
    {
      "cell_type": "markdown",
      "metadata": {
        "id": "A1B4kBJTjXCc",
        "colab_type": "text"
      },
      "source": [
        "## プログラム実行前の設定など"
      ]
    },
    {
      "cell_type": "code",
      "metadata": {
        "id": "qE00vj2hjUsc",
        "colab_type": "code",
        "colab": {}
      },
      "source": [
        "# 乱数のシードを固定\n",
        "import random\n",
        "import numpy as np\n",
        "\n",
        "random.seed(1234)\n",
        "np.random.seed(1234)\n"
      ],
      "execution_count": 0,
      "outputs": []
    },
    {
      "cell_type": "code",
      "metadata": {
        "id": "PtmPH1FUjZZA",
        "colab_type": "code",
        "colab": {}
      },
      "source": [
        "# 使用するパッケージ（ライブラリと関数）を定義\n",
        "import pandas as pd"
      ],
      "execution_count": 0,
      "outputs": []
    },
    {
      "cell_type": "markdown",
      "metadata": {
        "id": "ONKBX56LdZyX",
        "colab_type": "text"
      },
      "source": [
        "# データ生成"
      ]
    },
    {
      "cell_type": "markdown",
      "metadata": {
        "colab_type": "text",
        "id": "3IVwBzaljlko"
      },
      "source": [
        "## モデル\n",
        "x1 = 3×x2 + ex1\n",
        "\n",
        "x2 = ex2\n",
        "\n",
        "x3 = 2×x1 + 4×x2 + ex3\n",
        " \n"
      ]
    },
    {
      "cell_type": "code",
      "metadata": {
        "id": "-CXDyGWOmOQb",
        "colab_type": "code",
        "outputId": "abf2a734-ee59-43ea-af8b-e8d21abdefe0",
        "colab": {
          "base_uri": "https://localhost:8080/",
          "height": 195
        }
      },
      "source": [
        "# データ数\n",
        "num_data = 200\n",
        "\n",
        "# 非ガウスのノイズ\n",
        "ex1 = 2*(np.random.rand(num_data)-0.5)  # -1.0から1.0\n",
        "ex2 = 2*(np.random.rand(num_data)-0.5)\n",
        "ex3 = 2*(np.random.rand(num_data)-0.5)\n",
        "\n",
        "# データ生成\n",
        "x2 = ex2\n",
        "x1 = 3*x2 + ex1\n",
        "x3 = 2*x1 + 4*x2 + ex3\n",
        "\n",
        "# 表にまとめる\n",
        "df = pd.DataFrame({\"x1\": x1, \"x2\": x2, \"x3\": x3})\n",
        "df.head()\n"
      ],
      "execution_count": 3,
      "outputs": [
        {
          "output_type": "execute_result",
          "data": {
            "text/html": [
              "<div>\n",
              "<style scoped>\n",
              "    .dataframe tbody tr th:only-of-type {\n",
              "        vertical-align: middle;\n",
              "    }\n",
              "\n",
              "    .dataframe tbody tr th {\n",
              "        vertical-align: top;\n",
              "    }\n",
              "\n",
              "    .dataframe thead th {\n",
              "        text-align: right;\n",
              "    }\n",
              "</style>\n",
              "<table border=\"1\" class=\"dataframe\">\n",
              "  <thead>\n",
              "    <tr style=\"text-align: right;\">\n",
              "      <th></th>\n",
              "      <th>x1</th>\n",
              "      <th>x2</th>\n",
              "      <th>x3</th>\n",
              "    </tr>\n",
              "  </thead>\n",
              "  <tbody>\n",
              "    <tr>\n",
              "      <th>0</th>\n",
              "      <td>2.257272</td>\n",
              "      <td>0.958078</td>\n",
              "      <td>8.776842</td>\n",
              "    </tr>\n",
              "    <tr>\n",
              "      <th>1</th>\n",
              "      <td>2.531611</td>\n",
              "      <td>0.762464</td>\n",
              "      <td>8.561263</td>\n",
              "    </tr>\n",
              "    <tr>\n",
              "      <th>2</th>\n",
              "      <td>0.641547</td>\n",
              "      <td>0.255364</td>\n",
              "      <td>1.341902</td>\n",
              "    </tr>\n",
              "    <tr>\n",
              "      <th>3</th>\n",
              "      <td>3.153636</td>\n",
              "      <td>0.860973</td>\n",
              "      <td>9.322791</td>\n",
              "    </tr>\n",
              "    <tr>\n",
              "      <th>4</th>\n",
              "      <td>1.908691</td>\n",
              "      <td>0.449580</td>\n",
              "      <td>5.776675</td>\n",
              "    </tr>\n",
              "  </tbody>\n",
              "</table>\n",
              "</div>"
            ],
            "text/plain": [
              "         x1        x2        x3\n",
              "0  2.257272  0.958078  8.776842\n",
              "1  2.531611  0.762464  8.561263\n",
              "2  0.641547  0.255364  1.341902\n",
              "3  3.153636  0.860973  9.322791\n",
              "4  1.908691  0.449580  5.776675"
            ]
          },
          "metadata": {
            "tags": []
          },
          "execution_count": 3
        }
      ]
    },
    {
      "cell_type": "markdown",
      "metadata": {
        "id": "Z3Z3H7PldZ0I",
        "colab_type": "text"
      },
      "source": [
        "## 独立成分分析を実施"
      ]
    },
    {
      "cell_type": "code",
      "metadata": {
        "id": "um30h2fLdZ0K",
        "colab_type": "code",
        "outputId": "3fc228bc-1ef1-4c88-f437-4ff435e2f7fa",
        "colab": {
          "base_uri": "https://localhost:8080/",
          "height": 67
        }
      },
      "source": [
        "# 独立成分分析はscikit-learnの関数を使用します\n",
        "from sklearn.decomposition import FastICA\n",
        "# https://scikit-learn.org/stable/modules/generated/sklearn.decomposition.FastICA.html\n",
        "\n",
        "ica = FastICA(random_state=1234).fit(df)\n",
        "\n",
        "# ICAで求めた行列A\n",
        "A_ica = ica.mixing_\n",
        "\n",
        "# 行列Aの逆行列を求める\n",
        "A_ica_inv = np.linalg.pinv(A_ica)\n",
        "print(A_ica_inv)\n"
      ],
      "execution_count": 4,
      "outputs": [
        {
          "output_type": "stream",
          "text": [
            "[[-0.23203107 -0.4635971   0.1154553 ]\n",
            " [-0.02158245  0.12961253  0.00557934]\n",
            " [-0.11326384  0.40437635 -0.00563091]]\n"
          ],
          "name": "stdout"
        }
      ]
    },
    {
      "cell_type": "markdown",
      "metadata": {
        "colab_type": "text",
        "id": "VWpDEqLNtGe1"
      },
      "source": [
        "## 行列A_invを求め、行の順番と大きさを調整\n",
        "\n",
        "プログラムの参考\n",
        "\n",
        "https://qiita.com/m__k/items/bd87c063a7496897ba7c"
      ]
    },
    {
      "cell_type": "code",
      "metadata": {
        "id": "nmBp3lFddZ0e",
        "colab_type": "code",
        "outputId": "7967ae8a-b03f-4f4f-aef8-6ab7de221eeb",
        "colab": {
          "base_uri": "https://localhost:8080/",
          "height": 34
        }
      },
      "source": [
        "!pip install munkres\n",
        "from munkres import Munkres\n",
        "from copy import deepcopy\n"
      ],
      "execution_count": 5,
      "outputs": [
        {
          "output_type": "stream",
          "text": [
            "Requirement already satisfied: munkres in /usr/local/lib/python3.6/dist-packages (1.1.2)\n"
          ],
          "name": "stdout"
        }
      ]
    },
    {
      "cell_type": "code",
      "metadata": {
        "id": "NUhUjh3YtVto",
        "colab_type": "code",
        "outputId": "d70aa90c-2aa9-4ac5-f58f-053df8759f11",
        "colab": {
          "base_uri": "https://localhost:8080/",
          "height": 67
        }
      },
      "source": [
        "# 実装の参考\n",
        "# [5] Qiita：LiNGAMモデルの推定方法について\n",
        "# https://qiita.com/m__k/items/bd87c063a7496897ba7c\n",
        "\n",
        "# ①「行の順番を変換」→対角成分の絶対値を最大にする\n",
        "# （元のA^-1の対角成分は必ず0ではないので）\n",
        "\n",
        "# 絶対値の逆数にして対角成分の和を最小にする問題に置き換える\n",
        "A_ica_inv_small = 1 / np.abs(A_ica_inv)\n",
        "\n",
        "# 対角成分の和を最小にする行の入れ替え順を求める\n",
        "m = Munkres()  # ハンガリアン法\n",
        "ixs = np.vstack(m.compute(deepcopy(A_ica_inv_small)))\n",
        "\n",
        "# 求めた順番で変換\n",
        "ixs = ixs[np.argsort(ixs[:, 0]), :]\n",
        "ixs_perm = ixs[:, 1]\n",
        "A_ica_inv_perm = np.zeros_like(A_ica_inv)\n",
        "A_ica_inv_perm[ixs_perm] = A_ica_inv\n",
        "print(A_ica_inv_perm)\n"
      ],
      "execution_count": 6,
      "outputs": [
        {
          "output_type": "stream",
          "text": [
            "[[-0.11326384  0.40437635 -0.00563091]\n",
            " [-0.02158245  0.12961253  0.00557934]\n",
            " [-0.23203107 -0.4635971   0.1154553 ]]\n"
          ],
          "name": "stdout"
        }
      ]
    },
    {
      "cell_type": "code",
      "metadata": {
        "id": "aVTjcyKs1aFR",
        "colab_type": "code",
        "colab": {
          "base_uri": "https://localhost:8080/",
          "height": 67
        },
        "outputId": "c3a08db9-1fad-4485-f18e-c34f0d16cc3f"
      },
      "source": [
        "# 並び替わった順番\n",
        "print(ixs)"
      ],
      "execution_count": 7,
      "outputs": [
        {
          "output_type": "stream",
          "text": [
            "[[0 2]\n",
            " [1 1]\n",
            " [2 0]]\n"
          ],
          "name": "stdout"
        }
      ]
    },
    {
      "cell_type": "code",
      "metadata": {
        "id": "uD47ajJBdZ1B",
        "colab_type": "code",
        "outputId": "82d6f933-1954-42da-a7f2-529910fc0fd3",
        "colab": {
          "base_uri": "https://localhost:8080/",
          "height": 67
        }
      },
      "source": [
        "# ②「行の大きさを調整」\n",
        "D = np.diag(A_ica_inv_perm)[:, np.newaxis]  # D倍されているDを求める\n",
        "A_ica_inv_perm_D = A_ica_inv_perm / D\n",
        "print(A_ica_inv_perm_D)\n"
      ],
      "execution_count": 8,
      "outputs": [
        {
          "output_type": "stream",
          "text": [
            "[[ 1.         -3.57021564  0.04971498]\n",
            " [-0.16651518  1.          0.0430463 ]\n",
            " [-2.00970483 -4.01538182  1.        ]]\n"
          ],
          "name": "stdout"
        }
      ]
    },
    {
      "cell_type": "code",
      "metadata": {
        "id": "Hfu7SLMwdZ1G",
        "colab_type": "code",
        "outputId": "9e1e43ef-8efd-4e03-8b82-ccd860c4dd20",
        "colab": {
          "base_uri": "https://localhost:8080/",
          "height": 67
        }
      },
      "source": [
        "# ③「B=I-A_inv」\n",
        "B_est = np.eye(3) - A_ica_inv_perm_D\n",
        "print(B_est)\n"
      ],
      "execution_count": 9,
      "outputs": [
        {
          "output_type": "stream",
          "text": [
            "[[ 0.          3.57021564 -0.04971498]\n",
            " [ 0.16651518  0.         -0.0430463 ]\n",
            " [ 2.00970483  4.01538182  0.        ]]\n"
          ],
          "name": "stdout"
        }
      ]
    },
    {
      "cell_type": "code",
      "metadata": {
        "id": "Vipp7leM5pRd",
        "colab_type": "code",
        "colab": {
          "base_uri": "https://localhost:8080/",
          "height": 67
        },
        "outputId": "7b5c03cf-29d8-4e0d-e68a-de6552b4ece5"
      },
      "source": [
        "# ①上側成分の0になるはずの数（3×3であれば3個、4×4であれば6個と、対角成分の上側の要素数分）、絶対値が小さい成分を0にする\n",
        "# ②変数の順番を入れ替えて、下三角行列になるかを確かめる、\n",
        "# 実装の参考\n",
        "# [5] Qiita：LiNGAMモデルの推定方法について\n",
        "# https://qiita.com/m__k/items/bd87c063a7496897ba7c\n",
        "\n",
        "def _slttestperm(b_i):\n",
        "# b_iの行を並び替えて下三角行列にできるかどうかチェック\n",
        "    n = b_i.shape[0]\n",
        "    remnodes = np.arange(n)\n",
        "    b_rem = deepcopy(b_i)\n",
        "    p = list() \n",
        "\n",
        "    for i in range(n):\n",
        "        # 成分が全て0である行番号のリスト\n",
        "        ixs = np.where(np.sum(np.abs(b_rem), axis=1) < 1e-12)[0]\n",
        "\n",
        "        if len(ixs) == 0:\n",
        "            return None\n",
        "        else:\n",
        "            ix = ixs[0]\n",
        "            p.append(remnodes[ix])\n",
        "\n",
        "            #　成分が全て0である行を削除\n",
        "            remnodes = np.hstack((remnodes[:ix], remnodes[(ix + 1):]))\n",
        "            ixs = np.hstack((np.arange(ix), np.arange(ix + 1, len(b_rem))))\n",
        "            b_rem = b_rem[ixs, :]\n",
        "            b_rem = b_rem[:, ixs]\n",
        "\n",
        "    return np.array(p)\n",
        "\n",
        "b = B_est\n",
        "n = b.shape[0]\n",
        "assert(b.shape == (n, n))\n",
        "\n",
        "ixs = np.argsort(np.abs(b).ravel())\n",
        "\n",
        "for i in range(int(n * (n + 1) / 2) - 1, (n * n) - 1):\n",
        "    b_i = deepcopy(b)\n",
        "    b_i.ravel()[ixs[:i]] = 0\n",
        "    ixs_perm = _slttestperm(b_i)\n",
        "    if ixs_perm is not None:\n",
        "        b_opt = deepcopy(b)\n",
        "        b_opt = b_opt[ixs_perm, :]\n",
        "        b_opt = b_opt[:, ixs_perm]\n",
        "        break\n",
        "b_csl = np.tril(b_opt, -1)\n",
        "b_csl[ixs_perm, :] = deepcopy(b_csl)\n",
        "b_csl[:, ixs_perm] = deepcopy(b_csl)\n",
        "\n",
        "B_est1 = b_csl\n",
        "print(B_est1)\n",
        "\n"
      ],
      "execution_count": 10,
      "outputs": [
        {
          "output_type": "stream",
          "text": [
            "[[0.         3.57021564 0.        ]\n",
            " [0.         0.         0.        ]\n",
            " [2.00970483 4.01538182 0.        ]]\n"
          ],
          "name": "stdout"
        }
      ]
    },
    {
      "cell_type": "markdown",
      "metadata": {
        "id": "EKf9DwAK84hB",
        "colab_type": "text"
      },
      "source": [
        "## Bの非ゼロ要素を求め直す"
      ]
    },
    {
      "cell_type": "code",
      "metadata": {
        "id": "QBdpU_dS88Lf",
        "colab_type": "code",
        "outputId": "176e10b7-a52d-4cf3-fd43-e1a9567b4472",
        "colab": {
          "base_uri": "https://localhost:8080/",
          "height": 50
        }
      },
      "source": [
        "# scikit-learnから線形回帰をimport\n",
        "from sklearn.linear_model import LinearRegression\n",
        "\n",
        "# 説明変数\n",
        "X1 = df[[\"x2\"]]\n",
        "X3 = df[[\"x1\", \"x2\"]]\n",
        "\n",
        "# 被説明変数（目的変数）\n",
        "# df[\"x1\"]\n",
        "# df[\"x3\"]\n",
        "\n",
        "# 回帰の実施\n",
        "reg1 = LinearRegression().fit(X1, df[\"x1\"])\n",
        "reg3 = LinearRegression().fit(X3, df[\"x3\"])\n",
        "\n",
        "# 回帰した結果の係数を出力\n",
        "print(\"係数：\", reg1.coef_)\n",
        "print(\"係数：\", reg3.coef_)\n"
      ],
      "execution_count": 11,
      "outputs": [
        {
          "output_type": "stream",
          "text": [
            "係数： [3.14642595]\n",
            "係数： [1.96164568 4.11256441]\n"
          ],
          "name": "stdout"
        }
      ]
    },
    {
      "cell_type": "markdown",
      "metadata": {
        "id": "i_V6mNsXyXs2",
        "colab_type": "text"
      },
      "source": [
        "以上"
      ]
    }
  ]
}