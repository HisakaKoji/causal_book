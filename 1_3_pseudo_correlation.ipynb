{
  "nbformat": 4,
  "nbformat_minor": 0,
  "metadata": {
    "colab": {
      "name": "1_3_pseudo_correlation.ipynb",
      "provenance": [],
      "collapsed_sections": []
    },
    "kernelspec": {
      "name": "python3",
      "display_name": "Python 3"
    }
  },
  "cells": [
    {
      "cell_type": "markdown",
      "metadata": {
        "id": "VQXhIfZRu7bb",
        "colab_type": "text"
      },
      "source": [
        "# 1.3 Google Colaboratoryを用いたPythonプログラミング：疑似相関の確認\n",
        "\n",
        "本ファイルでは、1.2節で紹介した疑似相関が生まれる3パターン（因果が逆、共通の原因：交絡、合流点での選抜）を、実際にPythonでプログラミングして確認します。"
      ]
    },
    {
      "cell_type": "markdown",
      "metadata": {
        "id": "P3r9Dbdug3Zz",
        "colab_type": "text"
      },
      "source": [
        "## プログラム実行前の設定など"
      ]
    },
    {
      "cell_type": "code",
      "metadata": {
        "id": "YgbDBCAoUx3u",
        "colab_type": "code",
        "colab": {}
      },
      "source": [
        "# 乱数のシードを固定\n",
        "import random\n",
        "import numpy as np\n",
        "\n",
        "random.seed(1234)\n",
        "np.random.seed(1234)\n"
      ],
      "execution_count": 0,
      "outputs": []
    },
    {
      "cell_type": "code",
      "metadata": {
        "id": "HIK5zUKjVjwD",
        "colab_type": "code",
        "colab": {}
      },
      "source": [
        "# 使用するパッケージ（ライブラリと関数）を定義\n",
        "# SciPy 平均0、分散1に正規化（標準化）関数\n",
        "import scipy.stats\n",
        "\n",
        "# 標準正規分布の生成用\n",
        "from numpy.random import randn\n",
        "\n",
        "# グラフの描画用\n",
        "import matplotlib.pyplot as plt\n",
        "%matplotlib inline\n"
      ],
      "execution_count": 0,
      "outputs": []
    },
    {
      "cell_type": "markdown",
      "metadata": {
        "colab_type": "text",
        "id": "taEvjTYeXnTp"
      },
      "source": [
        "## 0. ZからYへ因果が存在する場合（通常の因果と相関）\n"
      ]
    },
    {
      "cell_type": "code",
      "metadata": {
        "colab_type": "code",
        "id": "e19euWfrXnTo",
        "colab": {}
      },
      "source": [
        "# ノイズの生成\n",
        "num_data = 200\n",
        "e_z = randn(num_data)\n",
        "e_y = randn(num_data)\n",
        "\n",
        "# データの生成\n",
        "Z = e_z\n",
        "Y = 2*Z + e_y\n"
      ],
      "execution_count": 0,
      "outputs": []
    },
    {
      "cell_type": "code",
      "metadata": {
        "colab_type": "code",
        "id": "155MXhLlXnTl",
        "outputId": "a9201dc3-6a22-428b-9cab-2f53ad11072f",
        "colab": {
          "base_uri": "https://localhost:8080/",
          "height": 52
        }
      },
      "source": [
        "# 相関係数を求める\n",
        "np.corrcoef(Z, Y)\n"
      ],
      "execution_count": 0,
      "outputs": [
        {
          "output_type": "execute_result",
          "data": {
            "text/plain": [
              "array([[1.        , 0.89379611],\n",
              "       [0.89379611, 1.        ]])"
            ]
          },
          "metadata": {
            "tags": []
          },
          "execution_count": 4
        }
      ]
    },
    {
      "cell_type": "code",
      "metadata": {
        "colab_type": "code",
        "outputId": "33736eec-2cbd-4382-e495-40999ade7b91",
        "id": "uhxETB8sXnTb",
        "colab": {
          "base_uri": "https://localhost:8080/",
          "height": 282
        }
      },
      "source": [
        "# 標準化\n",
        "Z_std = scipy.stats.zscore(Z)\n",
        "Y_std = scipy.stats.zscore(Y)\n",
        "\n",
        "# 散布図を描画\n",
        "plt.scatter(Z_std, Y_std)\n"
      ],
      "execution_count": 0,
      "outputs": [
        {
          "output_type": "execute_result",
          "data": {
            "text/plain": [
              "<matplotlib.collections.PathCollection at 0x7f50b8823d30>"
            ]
          },
          "metadata": {
            "tags": []
          },
          "execution_count": 5
        },
        {
          "output_type": "display_data",
          "data": {
            "image/png": "[encoded data removed]",
            "text/plain": [
              "<Figure size 432x288 with 1 Axes>"
            ]
          },
          "metadata": {
            "tags": []
          }
        }
      ]
    },
    {
      "cell_type": "markdown",
      "metadata": {
        "colab_type": "text",
        "id": "sYR8NTK9Xpkb"
      },
      "source": [
        "# 1. 疑似相関：因果が逆\n"
      ]
    },
    {
      "cell_type": "code",
      "metadata": {
        "colab_type": "code",
        "id": "w5N1wvWiXpkc",
        "outputId": "6491ce36-d5cd-4d7a-f5ad-995077705ce5",
        "colab": {
          "base_uri": "https://localhost:8080/",
          "height": 52
        }
      },
      "source": [
        "# ノイズの生成\n",
        "num_data = 200\n",
        "e_z = randn(num_data)\n",
        "e_y = randn(num_data)\n",
        "\n",
        "# データの生成\n",
        "Y = e_y\n",
        "Z = 2*Y + e_z\n",
        "\n",
        "# 相関係数を求める\n",
        "np.corrcoef(Z, Y)\n"
      ],
      "execution_count": 0,
      "outputs": [
        {
          "output_type": "execute_result",
          "data": {
            "text/plain": [
              "array([[1.        , 0.90390263],\n",
              "       [0.90390263, 1.        ]])"
            ]
          },
          "metadata": {
            "tags": []
          },
          "execution_count": 6
        }
      ]
    },
    {
      "cell_type": "code",
      "metadata": {
        "colab_type": "code",
        "outputId": "35f70926-7e8d-4d0e-9c3f-5f1d6f89fb63",
        "id": "0mgFdiNGXpkl",
        "colab": {
          "base_uri": "https://localhost:8080/",
          "height": 282
        }
      },
      "source": [
        "# 標準化\n",
        "Z_std = scipy.stats.zscore(Z)\n",
        "Y_std = scipy.stats.zscore(Y)\n",
        "\n",
        "# 散布図を描画\n",
        "plt.scatter(Z_std, Y_std)\n"
      ],
      "execution_count": 0,
      "outputs": [
        {
          "output_type": "execute_result",
          "data": {
            "text/plain": [
              "<matplotlib.collections.PathCollection at 0x7f50b5b72898>"
            ]
          },
          "metadata": {
            "tags": []
          },
          "execution_count": 7
        },
        {
          "output_type": "display_data",
          "data": {
            "image/png": "[encoded data removed]",
            "text/plain": [
              "<Figure size 432x288 with 1 Axes>"
            ]
          },
          "metadata": {
            "tags": []
          }
        }
      ]
    },
    {
      "cell_type": "markdown",
      "metadata": {
        "colab_type": "text",
        "id": "nW3lHT8baGGd"
      },
      "source": [
        "# 2. 疑似相関：共通の原因（交絡）\n"
      ]
    },
    {
      "cell_type": "code",
      "metadata": {
        "colab_type": "code",
        "id": "VV6Y6VOoaGGg",
        "outputId": "ba1d3b5b-d7aa-475c-b821-4afc0a7114ae",
        "colab": {
          "base_uri": "https://localhost:8080/",
          "height": 52
        }
      },
      "source": [
        "# ノイズの生成\n",
        "num_data = 200\n",
        "e_x = randn(num_data)\n",
        "e_y = randn(num_data)\n",
        "e_z = randn(num_data)\n",
        "\n",
        "# データの生成\n",
        "Z = 3.3*e_x + e_z\n",
        "Y = 3.3*e_x + e_y\n",
        "\n",
        "# 相関係数を求める\n",
        "np.corrcoef(Z, Y)\n"
      ],
      "execution_count": 0,
      "outputs": [
        {
          "output_type": "execute_result",
          "data": {
            "text/plain": [
              "array([[1.        , 0.90572419],\n",
              "       [0.90572419, 1.        ]])"
            ]
          },
          "metadata": {
            "tags": []
          },
          "execution_count": 8
        }
      ]
    },
    {
      "cell_type": "code",
      "metadata": {
        "colab_type": "code",
        "id": "yRzrQfzjaGGp",
        "outputId": "398f560e-68ef-4f14-ca45-dd5a13a4b239",
        "colab": {
          "base_uri": "https://localhost:8080/",
          "height": 282
        }
      },
      "source": [
        "# 標準化\n",
        "Z_std = scipy.stats.zscore(Z)\n",
        "Y_std = scipy.stats.zscore(Y)\n",
        "\n",
        "# 散布図を描画\n",
        "plt.scatter(Z_std, Y_std)\n"
      ],
      "execution_count": 0,
      "outputs": [
        {
          "output_type": "execute_result",
          "data": {
            "text/plain": [
              "<matplotlib.collections.PathCollection at 0x7f50b5ade2e8>"
            ]
          },
          "metadata": {
            "tags": []
          },
          "execution_count": 9
        },
        {
          "output_type": "display_data",
          "data": {
            "image/png": "[encoded data removed]",
            "text/plain": [
              "<Figure size 432x288 with 1 Axes>"
            ]
          },
          "metadata": {
            "tags": []
          }
        }
      ]
    },
    {
      "cell_type": "markdown",
      "metadata": {
        "colab_type": "text",
        "id": "3qAbjVueaqa-"
      },
      "source": [
        "# 3. 疑似相関：合流点での選抜\n",
        "\n"
      ]
    },
    {
      "cell_type": "code",
      "metadata": {
        "colab_type": "code",
        "id": "c6oCMPXZaqbE",
        "outputId": "bd8cca29-26d7-4ef2-c180-3f58e5ff6340",
        "colab": {
          "base_uri": "https://localhost:8080/",
          "height": 282
        }
      },
      "source": [
        "# ノイズの生成\n",
        "num_data = 600\n",
        "e_x = randn(num_data)\n",
        "e_y = randn(num_data)\n",
        "\n",
        "# データの生成 1\n",
        "x = e_x\n",
        "y = e_y\n",
        "\n",
        "# 散布図を描画\n",
        "plt.scatter(x, y)\n"
      ],
      "execution_count": 0,
      "outputs": [
        {
          "output_type": "execute_result",
          "data": {
            "text/plain": [
              "<matplotlib.collections.PathCollection at 0x7f50b5aafef0>"
            ]
          },
          "metadata": {
            "tags": []
          },
          "execution_count": 10
        },
        {
          "output_type": "display_data",
          "data": {
            "image/png": "[encoded data removed]",
            "text/plain": [
              "<Figure size 432x288 with 1 Axes>"
            ]
          },
          "metadata": {
            "tags": []
          }
        }
      ]
    },
    {
      "cell_type": "code",
      "metadata": {
        "id": "8QnH-TXSeVmF",
        "colab_type": "code",
        "outputId": "52af3b59-f8ba-4aae-df4e-6544123e2e3c",
        "colab": {
          "base_uri": "https://localhost:8080/",
          "height": 52
        }
      },
      "source": [
        "# 相関係数を求める\n",
        "np.corrcoef(x, y)\n"
      ],
      "execution_count": 0,
      "outputs": [
        {
          "output_type": "execute_result",
          "data": {
            "text/plain": [
              "array([[1.        , 0.00996848],\n",
              "       [0.00996848, 1.        ]])"
            ]
          },
          "metadata": {
            "tags": []
          },
          "execution_count": 11
        }
      ]
    },
    {
      "cell_type": "code",
      "metadata": {
        "id": "FwsqmncZfH5X",
        "colab_type": "code",
        "outputId": "a4720a28-ba94-4ec1-c61c-ed22bfb2d403",
        "colab": {
          "base_uri": "https://localhost:8080/",
          "height": 282
        }
      },
      "source": [
        "# 合流点を作成\n",
        "z = x + y\n",
        "\n",
        "# 新たな合流点での条件を満たす変数の用意\n",
        "x_new = np.array([])\n",
        "y_new = np.array([])\n",
        "\n",
        "# zの値が0以上で選抜してnew変数に追加（append）します\n",
        "for i in range(num_data):\n",
        "  if z[i] > 0.0:\n",
        "    x_new = np.append(x_new, x[i])\n",
        "    y_new = np.append(y_new, y[i])\n",
        "\n",
        "# 散布図を描画\n",
        "plt.scatter(x_new, y_new)\n"
      ],
      "execution_count": 0,
      "outputs": [
        {
          "output_type": "execute_result",
          "data": {
            "text/plain": [
              "<matplotlib.collections.PathCollection at 0x7f50b5a19f98>"
            ]
          },
          "metadata": {
            "tags": []
          },
          "execution_count": 12
        },
        {
          "output_type": "display_data",
          "data": {
            "image/png": "[encoded data removed]",
            "text/plain": [
              "<Figure size 432x288 with 1 Axes>"
            ]
          },
          "metadata": {
            "tags": []
          }
        }
      ]
    },
    {
      "cell_type": "code",
      "metadata": {
        "colab_type": "code",
        "outputId": "c5721260-9423-415c-bb6f-5964b22934d1",
        "id": "3rnlM5zzaqbL",
        "colab": {
          "base_uri": "https://localhost:8080/",
          "height": 52
        }
      },
      "source": [
        "# 相関係数を求める\n",
        "np.corrcoef(x_new, y_new)\n"
      ],
      "execution_count": 0,
      "outputs": [
        {
          "output_type": "execute_result",
          "data": {
            "text/plain": [
              "array([[ 1.        , -0.48132747],\n",
              "       [-0.48132747,  1.        ]])"
            ]
          },
          "metadata": {
            "tags": []
          },
          "execution_count": 13
        }
      ]
    },
    {
      "cell_type": "markdown",
      "metadata": {
        "id": "qgLJlLgQ9tud",
        "colab_type": "text"
      },
      "source": [
        "以上。"
      ]
    }
  ]
}