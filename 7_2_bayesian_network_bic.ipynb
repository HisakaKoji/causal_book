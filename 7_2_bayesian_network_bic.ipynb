{
  "nbformat": 4,
  "nbformat_minor": 0,
  "metadata": {
    "kernelspec": {
      "name": "python3",
      "display_name": "Python 3"
    },
    "colab": {
      "name": "7_2_bayesian_network_bic.ipynb",
      "provenance": [],
      "collapsed_sections": []
    }
  },
  "cells": [
    {
      "cell_type": "markdown",
      "metadata": {
        "id": "aoxI3DOK9vm2",
        "colab_type": "text"
      },
      "source": [
        "# 7.2 BICの計算\n",
        "\n",
        "本ファイルは、7.2節の実装です。\n",
        "\n",
        "データに対してBICの値を求めます。"
      ]
    },
    {
      "cell_type": "markdown",
      "metadata": {
        "id": "2XdIDbdlejUk",
        "colab_type": "text"
      },
      "source": [
        "## プログラム実行前の設定など"
      ]
    },
    {
      "cell_type": "code",
      "metadata": {
        "id": "XZFKJwcu-_Oj",
        "colab_type": "code",
        "colab": {}
      },
      "source": [
        "# 乱数のシードを設定\n",
        "import random\n",
        "import numpy as np\n",
        "\n",
        "np.random.seed(1234)\n",
        "random.seed(1234)\n"
      ],
      "execution_count": 0,
      "outputs": []
    },
    {
      "cell_type": "code",
      "metadata": {
        "id": "hx1idArc_F15",
        "colab_type": "code",
        "colab": {}
      },
      "source": [
        "# 使用するパッケージ（ライブラリと関数）を定義\n",
        "from numpy.random import *\n",
        "import pandas as pd\n"
      ],
      "execution_count": 0,
      "outputs": []
    },
    {
      "cell_type": "markdown",
      "metadata": {
        "id": "AWqP6yeQlI_t",
        "colab_type": "text"
      },
      "source": [
        "## データの作成"
      ]
    },
    {
      "cell_type": "code",
      "metadata": {
        "id": "DpnGB2KZ_L8x",
        "colab_type": "code",
        "outputId": "b2ca2d8d-76dc-48f1-8dea-ad30de30b06c",
        "colab": {
          "base_uri": "https://localhost:8080/",
          "height": 195
        }
      },
      "source": [
        "# データ数\n",
        "num_data = 10\n",
        "\n",
        "# x1：0か1の値をnum_data個生成、0の確率は0.6、1の確率は0.4\n",
        "x1 = np.random.choice([0, 1], num_data, p=[0.6, 0.4])\n",
        "\n",
        "# x2：0か1の値をnum_data個生成、0の確率は0.4、1の確率は0.6\n",
        "x2 = np.random.choice([0, 1], num_data, p=[0.4, 0.6])\n",
        "\n",
        "# 2変数で表にする\n",
        "df = pd.DataFrame({'x1': x1,\n",
        "                   'x2': x2,\n",
        "                   })\n",
        "\n",
        "df.head()  # 先頭を表示\n"
      ],
      "execution_count": 3,
      "outputs": [
        {
          "output_type": "execute_result",
          "data": {
            "text/html": [
              "<div>\n",
              "<style scoped>\n",
              "    .dataframe tbody tr th:only-of-type {\n",
              "        vertical-align: middle;\n",
              "    }\n",
              "\n",
              "    .dataframe tbody tr th {\n",
              "        vertical-align: top;\n",
              "    }\n",
              "\n",
              "    .dataframe thead th {\n",
              "        text-align: right;\n",
              "    }\n",
              "</style>\n",
              "<table border=\"1\" class=\"dataframe\">\n",
              "  <thead>\n",
              "    <tr style=\"text-align: right;\">\n",
              "      <th></th>\n",
              "      <th>x1</th>\n",
              "      <th>x2</th>\n",
              "    </tr>\n",
              "  </thead>\n",
              "  <tbody>\n",
              "    <tr>\n",
              "      <th>0</th>\n",
              "      <td>0</td>\n",
              "      <td>0</td>\n",
              "    </tr>\n",
              "    <tr>\n",
              "      <th>1</th>\n",
              "      <td>1</td>\n",
              "      <td>1</td>\n",
              "    </tr>\n",
              "    <tr>\n",
              "      <th>2</th>\n",
              "      <td>0</td>\n",
              "      <td>1</td>\n",
              "    </tr>\n",
              "    <tr>\n",
              "      <th>3</th>\n",
              "      <td>1</td>\n",
              "      <td>1</td>\n",
              "    </tr>\n",
              "    <tr>\n",
              "      <th>4</th>\n",
              "      <td>1</td>\n",
              "      <td>0</td>\n",
              "    </tr>\n",
              "  </tbody>\n",
              "</table>\n",
              "</div>"
            ],
            "text/plain": [
              "   x1  x2\n",
              "0   0   0\n",
              "1   1   1\n",
              "2   0   1\n",
              "3   1   1\n",
              "4   1   0"
            ]
          },
          "metadata": {
            "tags": []
          },
          "execution_count": 3
        }
      ]
    },
    {
      "cell_type": "code",
      "metadata": {
        "id": "YvCfB7uRZvZI",
        "colab_type": "code",
        "outputId": "bad340c8-374a-42e7-bc43-1c9b22fb1251",
        "colab": {
          "base_uri": "https://localhost:8080/",
          "height": 343
        }
      },
      "source": [
        "# 変数x3：0か1の値をnum_data個生成する\n",
        "# (x1,x2)= (0,0)のとき、0の確率は0.2\n",
        "# (x1,x2)= (1,0)のとき、0の確率は0.3\n",
        "# (x1,x2)= (0,1)のとき、0の確率は0.4\n",
        "# (x1,x2)= (1,1)のとき、0の確率は0.1\n",
        "\n",
        "x3 = []\n",
        "for i in range(num_data):\n",
        "  if x1[i] == 0 and x2[i] == 0:\n",
        "    x3_value = np.random.choice([0, 1], 1, p=[0.2, 0.8])\n",
        "    x3.append(x3_value[0])  # x3はリストになっているので、0番目の要素を取り出して追加\n",
        "  elif x1[i] == 0 and x2[i] == 1:\n",
        "    x3_value = np.random.choice([0, 1], 1, p=[0.3, 0.7])\n",
        "    x3.append(x3_value[0])\n",
        "  elif x1[i] == 1 and x2[i] == 0:\n",
        "    x3_value = np.random.choice([0, 1], 1, p=[0.4, 0.6])\n",
        "    x3.append(x3_value[0])\n",
        "  elif x1[i] == 1 and x2[i] == 1:\n",
        "    x3_value = np.random.choice([0, 1], 1, p=[0.1, 0.9])\n",
        "    x3.append(x3_value[0])\n",
        "\n",
        "df[\"x3\"] = x3\n",
        "\n",
        "df  # 表示\n"
      ],
      "execution_count": 4,
      "outputs": [
        {
          "output_type": "execute_result",
          "data": {
            "text/html": [
              "<div>\n",
              "<style scoped>\n",
              "    .dataframe tbody tr th:only-of-type {\n",
              "        vertical-align: middle;\n",
              "    }\n",
              "\n",
              "    .dataframe tbody tr th {\n",
              "        vertical-align: top;\n",
              "    }\n",
              "\n",
              "    .dataframe thead th {\n",
              "        text-align: right;\n",
              "    }\n",
              "</style>\n",
              "<table border=\"1\" class=\"dataframe\">\n",
              "  <thead>\n",
              "    <tr style=\"text-align: right;\">\n",
              "      <th></th>\n",
              "      <th>x1</th>\n",
              "      <th>x2</th>\n",
              "      <th>x3</th>\n",
              "    </tr>\n",
              "  </thead>\n",
              "  <tbody>\n",
              "    <tr>\n",
              "      <th>0</th>\n",
              "      <td>0</td>\n",
              "      <td>0</td>\n",
              "      <td>1</td>\n",
              "    </tr>\n",
              "    <tr>\n",
              "      <th>1</th>\n",
              "      <td>1</td>\n",
              "      <td>1</td>\n",
              "      <td>1</td>\n",
              "    </tr>\n",
              "    <tr>\n",
              "      <th>2</th>\n",
              "      <td>0</td>\n",
              "      <td>1</td>\n",
              "      <td>0</td>\n",
              "    </tr>\n",
              "    <tr>\n",
              "      <th>3</th>\n",
              "      <td>1</td>\n",
              "      <td>1</td>\n",
              "      <td>1</td>\n",
              "    </tr>\n",
              "    <tr>\n",
              "      <th>4</th>\n",
              "      <td>1</td>\n",
              "      <td>0</td>\n",
              "      <td>1</td>\n",
              "    </tr>\n",
              "    <tr>\n",
              "      <th>5</th>\n",
              "      <td>0</td>\n",
              "      <td>1</td>\n",
              "      <td>1</td>\n",
              "    </tr>\n",
              "    <tr>\n",
              "      <th>6</th>\n",
              "      <td>0</td>\n",
              "      <td>1</td>\n",
              "      <td>1</td>\n",
              "    </tr>\n",
              "    <tr>\n",
              "      <th>7</th>\n",
              "      <td>1</td>\n",
              "      <td>0</td>\n",
              "      <td>1</td>\n",
              "    </tr>\n",
              "    <tr>\n",
              "      <th>8</th>\n",
              "      <td>1</td>\n",
              "      <td>1</td>\n",
              "      <td>1</td>\n",
              "    </tr>\n",
              "    <tr>\n",
              "      <th>9</th>\n",
              "      <td>1</td>\n",
              "      <td>1</td>\n",
              "      <td>1</td>\n",
              "    </tr>\n",
              "  </tbody>\n",
              "</table>\n",
              "</div>"
            ],
            "text/plain": [
              "   x1  x2  x3\n",
              "0   0   0   1\n",
              "1   1   1   1\n",
              "2   0   1   0\n",
              "3   1   1   1\n",
              "4   1   0   1\n",
              "5   0   1   1\n",
              "6   0   1   1\n",
              "7   1   0   1\n",
              "8   1   1   1\n",
              "9   1   1   1"
            ]
          },
          "metadata": {
            "tags": []
          },
          "execution_count": 4
        }
      ]
    },
    {
      "cell_type": "markdown",
      "metadata": {
        "id": "BHcdUlW9koTa",
        "colab_type": "text"
      },
      "source": [
        "## pgmpy（Python library for Probabilistic Graphical Models）によるBICの計算\n"
      ]
    },
    {
      "cell_type": "code",
      "metadata": {
        "id": "25oDRf7qtNtF",
        "colab_type": "code",
        "outputId": "8d2c208a-2371-4a82-9415-59ee92f0fdca",
        "colab": {
          "base_uri": "https://localhost:8080/",
          "height": 101
        }
      },
      "source": [
        "!pip install pgmpy==0.1.9"
      ],
      "execution_count": 5,
      "outputs": [
        {
          "output_type": "stream",
          "text": [
            "Collecting pgmpy==0.1.9\n",
            "\u001b[?25l  Downloading https://files.pythonhosted.org/packages/5a/b1/18dfdfcb10dcce71fd39f8c6801407e9aebd953939682558a5317e4a021c/pgmpy-0.1.9-py3-none-any.whl (331kB)\n",
            "\u001b[K     |████████████████████████████████| 337kB 2.8MB/s \n",
            "\u001b[?25hInstalling collected packages: pgmpy\n",
            "Successfully installed pgmpy-0.1.9\n"
          ],
          "name": "stdout"
        }
      ]
    },
    {
      "cell_type": "code",
      "metadata": {
        "id": "H1i9-YjMdDTh",
        "colab_type": "code",
        "colab": {}
      },
      "source": [
        "# 正解のDAGを与える\n",
        "from pgmpy.models import BayesianModel\n",
        "model = BayesianModel([('x1', 'x3'), ('x2', 'x3')])  # x1 -> x3 <- x2\n"
      ],
      "execution_count": 0,
      "outputs": []
    },
    {
      "cell_type": "code",
      "metadata": {
        "id": "WFKQb7XudDW3",
        "colab_type": "code",
        "outputId": "460d06f3-9e80-430e-e3c3-4e9b29066eaa",
        "colab": {
          "base_uri": "https://localhost:8080/",
          "height": 286
        }
      },
      "source": [
        "# 各データパターンの個数を表示する\n",
        "from pgmpy.estimators import ParameterEstimator\n",
        "pe = ParameterEstimator(model, df)\n",
        "print(\"\\n\", pe.state_counts('x1'))\n",
        "print(\"\\n\", pe.state_counts('x2'))\n",
        "print(\"\\n\", pe.state_counts('x3'))\n"
      ],
      "execution_count": 7,
      "outputs": [
        {
          "output_type": "stream",
          "text": [
            "/usr/local/lib/python3.6/dist-packages/statsmodels/tools/_testing.py:19: FutureWarning: pandas.util.testing is deprecated. Use the functions in the public API at pandas.testing instead.\n",
            "  import pandas.util.testing as tm\n"
          ],
          "name": "stderr"
        },
        {
          "output_type": "stream",
          "text": [
            "\n",
            "    x1\n",
            "0   4\n",
            "1   6\n",
            "\n",
            "    x2\n",
            "0   3\n",
            "1   7\n",
            "\n",
            " x1    0         1     \n",
            "x2    0    1    0    1\n",
            "x3                    \n",
            "0   0.0  1.0  0.0  0.0\n",
            "1   1.0  2.0  2.0  4.0\n"
          ],
          "name": "stdout"
        }
      ]
    },
    {
      "cell_type": "code",
      "metadata": {
        "id": "ztZJyobWwalY",
        "colab_type": "code",
        "outputId": "11bbeb28-dc26-4a7b-cbd3-08f4cd7f75e9",
        "colab": {
          "base_uri": "https://localhost:8080/",
          "height": 336
        }
      },
      "source": [
        "# CPT（条件付き確率表）を推定する\n",
        "from pgmpy.estimators import BayesianEstimator\n",
        "\n",
        "estimator = BayesianEstimator(model, df)\n",
        "\n",
        "cpd_x1 = estimator.estimate_cpd(\n",
        "    'x1', prior_type=\"dirichlet\", pseudo_counts=[[0], [0]])\n",
        "cpd_x2 = estimator.estimate_cpd(\n",
        "    'x2', prior_type=\"dirichlet\", pseudo_counts=[[0], [0]])\n",
        "cpd_x3 = estimator.estimate_cpd('x3', prior_type=\"dirichlet\", pseudo_counts=[\n",
        "                                [0, 0, 0, 0], [0, 0, 0, 0]])\n",
        "# 注意：pseudo_countsはハイパーパラメータ1のディクレ分布の設定を与えています。\n",
        "\n",
        "print(cpd_x1)\n",
        "print(cpd_x2)\n",
        "print(cpd_x3)\n"
      ],
      "execution_count": 8,
      "outputs": [
        {
          "output_type": "stream",
          "text": [
            "+-------+-----+\n",
            "| x1(0) | 0.4 |\n",
            "+-------+-----+\n",
            "| x1(1) | 0.6 |\n",
            "+-------+-----+\n",
            "+-------+-----+\n",
            "| x2(0) | 0.3 |\n",
            "+-------+-----+\n",
            "| x2(1) | 0.7 |\n",
            "+-------+-----+\n",
            "+-------+-------+--------------------+-------+-------+\n",
            "| x1    | x1(0) | x1(0)              | x1(1) | x1(1) |\n",
            "+-------+-------+--------------------+-------+-------+\n",
            "| x2    | x2(0) | x2(1)              | x2(0) | x2(1) |\n",
            "+-------+-------+--------------------+-------+-------+\n",
            "| x3(0) | 0.0   | 0.3333333333333333 | 0.0   | 0.0   |\n",
            "+-------+-------+--------------------+-------+-------+\n",
            "| x3(1) | 1.0   | 0.6666666666666666 | 1.0   | 1.0   |\n",
            "+-------+-------+--------------------+-------+-------+\n"
          ],
          "name": "stdout"
        }
      ]
    },
    {
      "cell_type": "code",
      "metadata": {
        "id": "T8UqcSmXyX_4",
        "colab_type": "code",
        "outputId": "3207d204-6108-476f-c9a6-069a676aa1d3",
        "colab": {
          "base_uri": "https://localhost:8080/",
          "height": 34
        }
      },
      "source": [
        "# BICを求める\n",
        "from pgmpy.estimators import BicScore\n",
        "bic = BicScore(df)\n",
        "print(bic.score(model))\n"
      ],
      "execution_count": 9,
      "outputs": [
        {
          "output_type": "stream",
          "text": [
            "-21.65605747450808\n"
          ],
          "name": "stdout"
        }
      ]
    },
    {
      "cell_type": "markdown",
      "metadata": {
        "id": "6Pvo1RIbEoyY",
        "colab_type": "text"
      },
      "source": [
        "## 異なるDAGでのBICの計算"
      ]
    },
    {
      "cell_type": "code",
      "metadata": {
        "id": "y2ZRLS0fEtnc",
        "colab_type": "code",
        "outputId": "6e9cfc89-cd37-4b73-ee48-39c598f5f59f",
        "colab": {
          "base_uri": "https://localhost:8080/",
          "height": 34
        }
      },
      "source": [
        "# 正解ではないDAGを与える\n",
        "from pgmpy.models import BayesianModel\n",
        "model = BayesianModel([('x2', 'x1'), ('x2', 'x3')])  # x1 <- x2 -> x3\n",
        "bic = BicScore(df)\n",
        "print(bic.score(model))\n"
      ],
      "execution_count": 10,
      "outputs": [
        {
          "output_type": "stream",
          "text": [
            "-21.425819218840655\n"
          ],
          "name": "stdout"
        }
      ]
    },
    {
      "cell_type": "markdown",
      "metadata": {
        "colab_type": "text",
        "id": "I6P1x9vAdG3i"
      },
      "source": [
        "以上"
      ]
    }
  ]
}