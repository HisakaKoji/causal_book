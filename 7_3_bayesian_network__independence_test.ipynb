{
  "nbformat": 4,
  "nbformat_minor": 0,
  "metadata": {
    "kernelspec": {
      "name": "python3",
      "display_name": "Python 3"
    },
    "colab": {
      "name": "7_3_bayesian_network__independence_test.ipynb",
      "provenance": [],
      "collapsed_sections": []
    }
  },
  "cells": [
    {
      "cell_type": "markdown",
      "metadata": {
        "id": "aoxI3DOK9vm2",
        "colab_type": "text"
      },
      "source": [
        "# 7.3 独立性の検定\n",
        "\n",
        "本ファイルは、7.3節の実装です。\n",
        "\n",
        "データに対して独立性のカイ二乗検定を実施ます"
      ]
    },
    {
      "cell_type": "markdown",
      "metadata": {
        "id": "2XdIDbdlejUk",
        "colab_type": "text"
      },
      "source": [
        "## プログラム実行前の設定など"
      ]
    },
    {
      "cell_type": "code",
      "metadata": {
        "id": "XZFKJwcu-_Oj",
        "colab_type": "code",
        "colab": {}
      },
      "source": [
        "# 乱数のシードを設定\n",
        "import random\n",
        "import numpy as np\n",
        "\n",
        "np.random.seed(1234)\n",
        "random.seed(1234)\n"
      ],
      "execution_count": 0,
      "outputs": []
    },
    {
      "cell_type": "code",
      "metadata": {
        "id": "hx1idArc_F15",
        "colab_type": "code",
        "colab": {}
      },
      "source": [
        "# 使用するパッケージ（ライブラリと関数）を定義\n",
        "from numpy.random import *\n",
        "import pandas as pd\n"
      ],
      "execution_count": 0,
      "outputs": []
    },
    {
      "cell_type": "markdown",
      "metadata": {
        "id": "AWqP6yeQlI_t",
        "colab_type": "text"
      },
      "source": [
        "## データの作成"
      ]
    },
    {
      "cell_type": "code",
      "metadata": {
        "id": "DpnGB2KZ_L8x",
        "colab_type": "code",
        "outputId": "7a7e8d89-2383-4b04-d0d0-3a15be37316f",
        "colab": {
          "base_uri": "https://localhost:8080/",
          "height": 195
        }
      },
      "source": [
        "# データ数\n",
        "num_data = 100\n",
        "\n",
        "# x1：0か1の値をnum_data個生成、0の確率は0.6、1の確率は0.4\n",
        "x1 = np.random.choice([0, 1], num_data, p=[0.6, 0.4])\n",
        "\n",
        "# x2：0か1の値をnum_data個生成、0の確率は0.4、1の確率は0.6\n",
        "x2 = np.random.choice([0, 1], num_data, p=[0.4, 0.6])\n",
        "\n",
        "# x2はx1と因果関係にあるとする\n",
        "x2 = x2*x1\n",
        "\n",
        "# 2変数で表にする\n",
        "df = pd.DataFrame({'x1': x1,\n",
        "                   'x2': x2,\n",
        "                   })\n",
        "\n",
        "df.head()  # 先頭を表示\n"
      ],
      "execution_count": 3,
      "outputs": [
        {
          "output_type": "execute_result",
          "data": {
            "text/html": [
              "<div>\n",
              "<style scoped>\n",
              "    .dataframe tbody tr th:only-of-type {\n",
              "        vertical-align: middle;\n",
              "    }\n",
              "\n",
              "    .dataframe tbody tr th {\n",
              "        vertical-align: top;\n",
              "    }\n",
              "\n",
              "    .dataframe thead th {\n",
              "        text-align: right;\n",
              "    }\n",
              "</style>\n",
              "<table border=\"1\" class=\"dataframe\">\n",
              "  <thead>\n",
              "    <tr style=\"text-align: right;\">\n",
              "      <th></th>\n",
              "      <th>x1</th>\n",
              "      <th>x2</th>\n",
              "    </tr>\n",
              "  </thead>\n",
              "  <tbody>\n",
              "    <tr>\n",
              "      <th>0</th>\n",
              "      <td>0</td>\n",
              "      <td>0</td>\n",
              "    </tr>\n",
              "    <tr>\n",
              "      <th>1</th>\n",
              "      <td>1</td>\n",
              "      <td>1</td>\n",
              "    </tr>\n",
              "    <tr>\n",
              "      <th>2</th>\n",
              "      <td>0</td>\n",
              "      <td>0</td>\n",
              "    </tr>\n",
              "    <tr>\n",
              "      <th>3</th>\n",
              "      <td>1</td>\n",
              "      <td>1</td>\n",
              "    </tr>\n",
              "    <tr>\n",
              "      <th>4</th>\n",
              "      <td>1</td>\n",
              "      <td>1</td>\n",
              "    </tr>\n",
              "  </tbody>\n",
              "</table>\n",
              "</div>"
            ],
            "text/plain": [
              "   x1  x2\n",
              "0   0   0\n",
              "1   1   1\n",
              "2   0   0\n",
              "3   1   1\n",
              "4   1   1"
            ]
          },
          "metadata": {
            "tags": []
          },
          "execution_count": 3
        }
      ]
    },
    {
      "cell_type": "code",
      "metadata": {
        "id": "YvCfB7uRZvZI",
        "colab_type": "code",
        "outputId": "0852e5c6-bdcc-4aae-b0d9-722dbfd24514",
        "colab": {
          "base_uri": "https://localhost:8080/",
          "height": 84
        }
      },
      "source": [
        "# 各カウント\n",
        "print(((df[\"x1\"] == 0) & (df[\"x2\"] == 0)).sum())\n",
        "print(((df[\"x1\"] == 1) & (df[\"x2\"] == 0)).sum())\n",
        "print(((df[\"x1\"] == 0) & (df[\"x2\"] == 1)).sum())\n",
        "print(((df[\"x1\"] == 1) & (df[\"x2\"] == 1)).sum())\n"
      ],
      "execution_count": 4,
      "outputs": [
        {
          "output_type": "stream",
          "text": [
            "58\n",
            "9\n",
            "0\n",
            "33\n"
          ],
          "name": "stdout"
        }
      ]
    },
    {
      "cell_type": "markdown",
      "metadata": {
        "id": "BHcdUlW9koTa",
        "colab_type": "text"
      },
      "source": [
        "## pgmpy（Python library for Probabilistic Graphical Models）による独立性の検定\n"
      ]
    },
    {
      "cell_type": "code",
      "metadata": {
        "id": "25oDRf7qtNtF",
        "colab_type": "code",
        "outputId": "64ca1b9e-846d-4040-a37b-acd185f2d66a",
        "colab": {
          "base_uri": "https://localhost:8080/",
          "height": 101
        }
      },
      "source": [
        "!pip install pgmpy==0.1.9"
      ],
      "execution_count": 5,
      "outputs": [
        {
          "output_type": "stream",
          "text": [
            "Collecting pgmpy==0.1.9\n",
            "\u001b[?25l  Downloading https://files.pythonhosted.org/packages/5a/b1/18dfdfcb10dcce71fd39f8c6801407e9aebd953939682558a5317e4a021c/pgmpy-0.1.9-py3-none-any.whl (331kB)\n",
            "\r\u001b[K     |█                               | 10kB 19.2MB/s eta 0:00:01\r\u001b[K     |██                              | 20kB 1.7MB/s eta 0:00:01\r\u001b[K     |███                             | 30kB 2.5MB/s eta 0:00:01\r\u001b[K     |████                            | 40kB 1.7MB/s eta 0:00:01\r\u001b[K     |█████                           | 51kB 2.1MB/s eta 0:00:01\r\u001b[K     |██████                          | 61kB 2.5MB/s eta 0:00:01\r\u001b[K     |███████                         | 71kB 2.9MB/s eta 0:00:01\r\u001b[K     |████████                        | 81kB 2.2MB/s eta 0:00:01\r\u001b[K     |█████████                       | 92kB 2.5MB/s eta 0:00:01\r\u001b[K     |█████████▉                      | 102kB 2.8MB/s eta 0:00:01\r\u001b[K     |██████████▉                     | 112kB 2.8MB/s eta 0:00:01\r\u001b[K     |███████████▉                    | 122kB 2.8MB/s eta 0:00:01\r\u001b[K     |████████████▉                   | 133kB 2.8MB/s eta 0:00:01\r\u001b[K     |█████████████▉                  | 143kB 2.8MB/s eta 0:00:01\r\u001b[K     |██████████████▉                 | 153kB 2.8MB/s eta 0:00:01\r\u001b[K     |███████████████▉                | 163kB 2.8MB/s eta 0:00:01\r\u001b[K     |████████████████▉               | 174kB 2.8MB/s eta 0:00:01\r\u001b[K     |█████████████████▉              | 184kB 2.8MB/s eta 0:00:01\r\u001b[K     |██████████████████▊             | 194kB 2.8MB/s eta 0:00:01\r\u001b[K     |███████████████████▊            | 204kB 2.8MB/s eta 0:00:01\r\u001b[K     |████████████████████▊           | 215kB 2.8MB/s eta 0:00:01\r\u001b[K     |█████████████████████▊          | 225kB 2.8MB/s eta 0:00:01\r\u001b[K     |██████████████████████▊         | 235kB 2.8MB/s eta 0:00:01\r\u001b[K     |███████████████████████▊        | 245kB 2.8MB/s eta 0:00:01\r\u001b[K     |████████████████████████▊       | 256kB 2.8MB/s eta 0:00:01\r\u001b[K     |█████████████████████████▊      | 266kB 2.8MB/s eta 0:00:01\r\u001b[K     |██████████████████████████▊     | 276kB 2.8MB/s eta 0:00:01\r\u001b[K     |███████████████████████████▋    | 286kB 2.8MB/s eta 0:00:01\r\u001b[K     |████████████████████████████▋   | 296kB 2.8MB/s eta 0:00:01\r\u001b[K     |█████████████████████████████▋  | 307kB 2.8MB/s eta 0:00:01\r\u001b[K     |██████████████████████████████▋ | 317kB 2.8MB/s eta 0:00:01\r\u001b[K     |███████████████████████████████▋| 327kB 2.8MB/s eta 0:00:01\r\u001b[K     |████████████████████████████████| 337kB 2.8MB/s \n",
            "\u001b[?25hInstalling collected packages: pgmpy\n",
            "Successfully installed pgmpy-0.1.9\n"
          ],
          "name": "stdout"
        }
      ]
    },
    {
      "cell_type": "code",
      "metadata": {
        "id": "K8rFdErsnUhd",
        "colab_type": "code",
        "outputId": "72888e1d-07dd-4a0f-886d-469df5010b54",
        "colab": {
          "base_uri": "https://localhost:8080/",
          "height": 84
        }
      },
      "source": [
        "# データ数\n",
        "num_data = 100\n",
        "\n",
        "# x1：0か1の値をnum_data個生成、0の確率は0.6、1の確率は0.4\n",
        "x1 = np.random.choice([0, 1], num_data, p=[0.6, 0.4])\n",
        "\n",
        "# x2：0か1の値をnum_data個生成、0の確率は0.4、1の確率は0.6\n",
        "x2 = np.random.choice([0, 1], num_data, p=[0.4, 0.6])\n",
        "\n",
        "# 2変数で表にする\n",
        "df2 = pd.DataFrame({'x1': x1,\n",
        "                   'x2': x2,\n",
        "                   })\n",
        "\n",
        "# 各カウント\n",
        "print(((df2[\"x1\"] == 0) & (df2[\"x2\"] == 0)).sum())\n",
        "print(((df2[\"x1\"] == 1) & (df2[\"x2\"] == 0)).sum())\n",
        "print(((df2[\"x1\"] == 0) & (df2[\"x2\"] == 1)).sum())\n",
        "print(((df2[\"x1\"] == 1) & (df2[\"x2\"] == 1)).sum())\n"
      ],
      "execution_count": 6,
      "outputs": [
        {
          "output_type": "stream",
          "text": [
            "20\n",
            "15\n",
            "35\n",
            "30\n"
          ],
          "name": "stdout"
        }
      ]
    },
    {
      "cell_type": "code",
      "metadata": {
        "id": "nJJBRMKEnbjO",
        "colab_type": "code",
        "outputId": "fb9adaf1-b048-46a6-a96c-4cc5987a4055",
        "colab": {
          "base_uri": "https://localhost:8080/",
          "height": 84
        }
      },
      "source": [
        "from pgmpy.estimators import ConstraintBasedEstimator\n",
        "\n",
        "est = ConstraintBasedEstimator(df2)\n",
        "print(est.test_conditional_independence(\n",
        "    'x1', 'x2', method=\"chi_square\", tol=0.05))  # 独立\n",
        "\n",
        "# 最初の例の場合\n",
        "est = ConstraintBasedEstimator(df)\n",
        "print(est.test_conditional_independence(\n",
        "    'x1', 'x2', method=\"chi_square\", tol=0.05))   # 独立でない\n"
      ],
      "execution_count": 7,
      "outputs": [
        {
          "output_type": "stream",
          "text": [
            "/usr/local/lib/python3.6/dist-packages/statsmodels/tools/_testing.py:19: FutureWarning: pandas.util.testing is deprecated. Use the functions in the public API at pandas.testing instead.\n",
            "  import pandas.util.testing as tm\n"
          ],
          "name": "stderr"
        },
        {
          "output_type": "stream",
          "text": [
            "True\n",
            "False\n"
          ],
          "name": "stdout"
        }
      ]
    },
    {
      "cell_type": "markdown",
      "metadata": {
        "colab_type": "text",
        "id": "I6P1x9vAdG3i"
      },
      "source": [
        "以上"
      ]
    }
  ]
}