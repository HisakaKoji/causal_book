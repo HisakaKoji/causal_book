{
  "nbformat": 4,
  "nbformat_minor": 0,
  "metadata": {
    "kernelspec": {
      "name": "python3",
      "display_name": "Python 3"
    },
    "colab": {
      "name": "7_5_bayesian_network_pc_algorithm.ipynb",
      "provenance": [],
      "collapsed_sections": []
    }
  },
  "cells": [
    {
      "cell_type": "markdown",
      "metadata": {
        "id": "aoxI3DOK9vm2",
        "colab_type": "text"
      },
      "source": [
        "# 7.5 PCアルゴリズムによるベイジアンネットワーク探索の実装\n",
        "\n",
        "本ファイルは、7.5節の実装です。\n",
        "\n",
        "5.3節で使用した人事研修の効果を拡張した模擬データを作成し、因果探索を実施します。"
      ]
    },
    {
      "cell_type": "markdown",
      "metadata": {
        "id": "2XdIDbdlejUk",
        "colab_type": "text"
      },
      "source": [
        "## プログラム実行前の設定など"
      ]
    },
    {
      "cell_type": "code",
      "metadata": {
        "id": "XZFKJwcu-_Oj",
        "colab_type": "code",
        "colab": {}
      },
      "source": [
        "# 乱数のシードを設定\n",
        "import random\n",
        "import numpy as np\n",
        "\n",
        "np.random.seed(1234)\n",
        "random.seed(1234)\n"
      ],
      "execution_count": 0,
      "outputs": []
    },
    {
      "cell_type": "code",
      "metadata": {
        "id": "hx1idArc_F15",
        "colab_type": "code",
        "colab": {}
      },
      "source": [
        "# 使用するパッケージ（ライブラリと関数）を定義\n",
        "# 標準正規分布の生成用\n",
        "from numpy.random import *\n",
        "\n",
        "# グラフの描画用\n",
        "import matplotlib.pyplot as plt\n",
        "\n",
        "# SciPy 平均0、分散1に正規化（標準化）関数\n",
        "import scipy.stats\n",
        "\n",
        "# シグモイド関数をimport\n",
        "from scipy.special import expit\n",
        "\n",
        "# その他\n",
        "import pandas as pd\n"
      ],
      "execution_count": 0,
      "outputs": []
    },
    {
      "cell_type": "markdown",
      "metadata": {
        "id": "AWqP6yeQlI_t",
        "colab_type": "text"
      },
      "source": [
        "## データの作成"
      ]
    },
    {
      "cell_type": "code",
      "metadata": {
        "id": "DpnGB2KZ_L8x",
        "colab_type": "code",
        "colab": {}
      },
      "source": [
        "# データ数\n",
        "num_data = 2000\n",
        "\n",
        "# 部下育成への熱心さ\n",
        "x = np.random.uniform(low=-1, high=1, size=num_data)  # -1から1の一様乱数\n",
        "\n",
        "# 上司が「上司向け：部下とのキャリア面談のポイント研修」に参加したかどうか\n",
        "e_z = randn(num_data)  # ノイズの生成\n",
        "z_prob = expit(-5.0*x+5*e_z)\n",
        "Z = np.array([])\n",
        "\n",
        "# 上司が「上司向け：部下とのキャリア面談のポイント研修」に参加したかどうか\n",
        "for i in range(num_data):\n",
        "    Z_i = np.random.choice(2, size=1, p=[1-z_prob[i], z_prob[i]])[0]\n",
        "    Z = np.append(Z, Z_i)\n",
        "\n",
        "# 介入効果の非線形性：部下育成の熱心さxの値に応じて段階的に変化\n",
        "t = np.zeros(num_data)\n",
        "for i in range(num_data):\n",
        "    if x[i] < 0:\n",
        "        t[i] = 0.5\n",
        "    elif x[i] >= 0 and x[i] < 0.5:\n",
        "        t[i] = 0.7\n",
        "    elif x[i] >= 0.5:\n",
        "        t[i] = 1.0\n",
        "\n",
        "e_xy = randn(num_data)\n",
        "Y = 2.0 + t*Z + 0.1 * e_xy\n"
      ],
      "execution_count": 0,
      "outputs": []
    },
    {
      "cell_type": "code",
      "metadata": {
        "id": "RwfHdcKFzL8o",
        "colab_type": "code",
        "colab": {}
      },
      "source": [
        "# 本章からの追加データを生成\n",
        "\n",
        "# Y2：部下当人のチームメンバへの満足度 1から5の5段階\n",
        "Y2 = np.random.choice([1.0, 2.0, 3.0, 4.0, 5.0],\n",
        "                      num_data, p=[0.1, 0.2, 0.3, 0.2, 0.2])\n",
        "\n",
        "# Y3：部下当人の仕事への満足度\n",
        "e_y3 = randn(num_data)\n",
        "Y3 = 3*Y + Y2 + e_y3\n",
        "\n",
        "# Y4：部下当人の仕事のパフォーマンス\n",
        "e_y4 = randn(num_data)\n",
        "Y4 = 3*Y3 + 2*e_y4 + 5\n"
      ],
      "execution_count": 0,
      "outputs": []
    },
    {
      "cell_type": "markdown",
      "metadata": {
        "id": "BHcdUlW9koTa",
        "colab_type": "text"
      },
      "source": [
        "## データをまとめた表を作成し、可視化する"
      ]
    },
    {
      "cell_type": "code",
      "metadata": {
        "id": "1EMwdGIIIPrK",
        "colab_type": "code",
        "outputId": "3fd0a8bc-5b10-481c-b566-c02d04d53ad0",
        "colab": {
          "base_uri": "https://localhost:8080/",
          "height": 202
        }
      },
      "source": [
        "df = pd.DataFrame({'x': x,\n",
        "                   'Z': Z,\n",
        "                   't': t,\n",
        "                   'Y': Y,\n",
        "                   'Y2': Y2,\n",
        "                   'Y3': Y3,\n",
        "                   'Y4': Y4,\n",
        "                   \n",
        "                   })\n",
        "\n",
        "df.head()  # 先頭を表示\n"
      ],
      "execution_count": 5,
      "outputs": [
        {
          "output_type": "execute_result",
          "data": {
            "text/html": [
              "<div>\n",
              "<style scoped>\n",
              "    .dataframe tbody tr th:only-of-type {\n",
              "        vertical-align: middle;\n",
              "    }\n",
              "\n",
              "    .dataframe tbody tr th {\n",
              "        vertical-align: top;\n",
              "    }\n",
              "\n",
              "    .dataframe thead th {\n",
              "        text-align: right;\n",
              "    }\n",
              "</style>\n",
              "<table border=\"1\" class=\"dataframe\">\n",
              "  <thead>\n",
              "    <tr style=\"text-align: right;\">\n",
              "      <th></th>\n",
              "      <th>x</th>\n",
              "      <th>Z</th>\n",
              "      <th>t</th>\n",
              "      <th>Y</th>\n",
              "      <th>Y2</th>\n",
              "      <th>Y3</th>\n",
              "      <th>Y4</th>\n",
              "    </tr>\n",
              "  </thead>\n",
              "  <tbody>\n",
              "    <tr>\n",
              "      <th>0</th>\n",
              "      <td>-0.616961</td>\n",
              "      <td>1.0</td>\n",
              "      <td>0.5</td>\n",
              "      <td>2.472013</td>\n",
              "      <td>2.0</td>\n",
              "      <td>9.287809</td>\n",
              "      <td>31.992302</td>\n",
              "    </tr>\n",
              "    <tr>\n",
              "      <th>1</th>\n",
              "      <td>0.244218</td>\n",
              "      <td>1.0</td>\n",
              "      <td>0.7</td>\n",
              "      <td>2.791371</td>\n",
              "      <td>3.0</td>\n",
              "      <td>10.524163</td>\n",
              "      <td>36.489627</td>\n",
              "    </tr>\n",
              "    <tr>\n",
              "      <th>2</th>\n",
              "      <td>-0.124545</td>\n",
              "      <td>0.0</td>\n",
              "      <td>0.5</td>\n",
              "      <td>2.235879</td>\n",
              "      <td>3.0</td>\n",
              "      <td>10.681253</td>\n",
              "      <td>38.817456</td>\n",
              "    </tr>\n",
              "    <tr>\n",
              "      <th>3</th>\n",
              "      <td>0.570717</td>\n",
              "      <td>1.0</td>\n",
              "      <td>1.0</td>\n",
              "      <td>3.059357</td>\n",
              "      <td>3.0</td>\n",
              "      <td>11.798881</td>\n",
              "      <td>42.168293</td>\n",
              "    </tr>\n",
              "    <tr>\n",
              "      <th>4</th>\n",
              "      <td>0.559952</td>\n",
              "      <td>0.0</td>\n",
              "      <td>1.0</td>\n",
              "      <td>2.291281</td>\n",
              "      <td>5.0</td>\n",
              "      <td>11.914783</td>\n",
              "      <td>39.322069</td>\n",
              "    </tr>\n",
              "  </tbody>\n",
              "</table>\n",
              "</div>"
            ],
            "text/plain": [
              "          x    Z    t         Y   Y2         Y3         Y4\n",
              "0 -0.616961  1.0  0.5  2.472013  2.0   9.287809  31.992302\n",
              "1  0.244218  1.0  0.7  2.791371  3.0  10.524163  36.489627\n",
              "2 -0.124545  0.0  0.5  2.235879  3.0  10.681253  38.817456\n",
              "3  0.570717  1.0  1.0  3.059357  3.0  11.798881  42.168293\n",
              "4  0.559952  0.0  1.0  2.291281  5.0  11.914783  39.322069"
            ]
          },
          "metadata": {
            "tags": []
          },
          "execution_count": 5
        }
      ]
    },
    {
      "cell_type": "code",
      "metadata": {
        "id": "L6Tb2Hjk9vno",
        "colab_type": "code",
        "outputId": "77afb6dc-9310-48d7-c429-3147047ec4b2",
        "colab": {
          "base_uri": "https://localhost:8080/",
          "height": 283
        }
      },
      "source": [
        "# グラフで確認\n",
        "plt.scatter(x, Y)\n"
      ],
      "execution_count": 6,
      "outputs": [
        {
          "output_type": "execute_result",
          "data": {
            "text/plain": [
              "<matplotlib.collections.PathCollection at 0x7f679e3d9048>"
            ]
          },
          "metadata": {
            "tags": []
          },
          "execution_count": 6
        },
        {
          "output_type": "display_data",
          "data": {
            "image/png": "[encoded data removed]",
            "text/plain": [
              "<Figure size 432x288 with 1 Axes>"
            ]
          },
          "metadata": {
            "tags": []
          }
        }
      ]
    },
    {
      "cell_type": "code",
      "metadata": {
        "id": "zpUlt74J0jq-",
        "colab_type": "code",
        "colab": {
          "base_uri": "https://localhost:8080/",
          "height": 283
        },
        "outputId": "37adb83e-0e44-4989-f5cf-f2c5b83fc959"
      },
      "source": [
        "# グラフで確認\n",
        "plt.scatter(x, Y2)\n"
      ],
      "execution_count": 7,
      "outputs": [
        {
          "output_type": "execute_result",
          "data": {
            "text/plain": [
              "<matplotlib.collections.PathCollection at 0x7f679b6b0be0>"
            ]
          },
          "metadata": {
            "tags": []
          },
          "execution_count": 7
        },
        {
          "output_type": "display_data",
          "data": {
            "image/png": "[encoded data removed]",
            "text/plain": [
              "<Figure size 432x288 with 1 Axes>"
            ]
          },
          "metadata": {
            "tags": []
          }
        }
      ]
    },
    {
      "cell_type": "code",
      "metadata": {
        "id": "UlLscNMF0ndN",
        "colab_type": "code",
        "colab": {
          "base_uri": "https://localhost:8080/",
          "height": 283
        },
        "outputId": "de414393-c07c-4c8f-a0de-eecf998f730d"
      },
      "source": [
        "# グラフで確認\n",
        "plt.scatter(x, Y3)\n"
      ],
      "execution_count": 8,
      "outputs": [
        {
          "output_type": "execute_result",
          "data": {
            "text/plain": [
              "<matplotlib.collections.PathCollection at 0x7f679b620f28>"
            ]
          },
          "metadata": {
            "tags": []
          },
          "execution_count": 8
        },
        {
          "output_type": "display_data",
          "data": {
            "image/png": "[encoded data removed]",
            "text/plain": [
              "<Figure size 432x288 with 1 Axes>"
            ]
          },
          "metadata": {
            "tags": []
          }
        }
      ]
    },
    {
      "cell_type": "code",
      "metadata": {
        "id": "y04PV60K0p25",
        "colab_type": "code",
        "colab": {
          "base_uri": "https://localhost:8080/",
          "height": 283
        },
        "outputId": "3bab6a5d-4ab0-4918-ec99-9b19af6a1995"
      },
      "source": [
        "# グラフで確認\n",
        "plt.scatter(x, Y4)\n"
      ],
      "execution_count": 9,
      "outputs": [
        {
          "output_type": "execute_result",
          "data": {
            "text/plain": [
              "<matplotlib.collections.PathCollection at 0x7f679b614048>"
            ]
          },
          "metadata": {
            "tags": []
          },
          "execution_count": 9
        },
        {
          "output_type": "display_data",
          "data": {
            "image/png": "[encoded data removed]",
            "text/plain": [
              "<Figure size 432x288 with 1 Axes>"
            ]
          },
          "metadata": {
            "tags": []
          }
        }
      ]
    },
    {
      "cell_type": "markdown",
      "metadata": {
        "colab_type": "text",
        "id": "AeC7Uv29KsXC"
      },
      "source": [
        "## データをビンで区切る"
      ]
    },
    {
      "cell_type": "code",
      "metadata": {
        "id": "xp2P-IDT9vql",
        "colab_type": "code",
        "outputId": "8d474599-e8b6-4d32-8314-7fb4d2f1de41",
        "colab": {
          "base_uri": "https://localhost:8080/",
          "height": 287
        }
      },
      "source": [
        "# ビン区切りの例\n",
        "# qcutを使用すると同じデータ数になるように区切る\n",
        "# cutを使用すると閾値で区切れる\n",
        "s_qcut, bins = pd.qcut(df[\"Y\"], 5, labels=[1, 2, 3, 4, 5], retbins=True)\n",
        "\n",
        "print(s_qcut)\n",
        "print(\"=======\")\n",
        "print(bins)\n"
      ],
      "execution_count": 10,
      "outputs": [
        {
          "output_type": "stream",
          "text": [
            "0       4\n",
            "1       5\n",
            "2       3\n",
            "3       5\n",
            "4       3\n",
            "       ..\n",
            "1995    3\n",
            "1996    1\n",
            "1997    2\n",
            "1998    1\n",
            "1999    1\n",
            "Name: Y, Length: 2000, dtype: category\n",
            "Categories (5, int64): [1 < 2 < 3 < 4 < 5]\n",
            "=======\n",
            "[1.67357962 1.98063606 2.10674618 2.46110755 2.61051474 3.20740457]\n"
          ],
          "name": "stdout"
        }
      ]
    },
    {
      "cell_type": "code",
      "metadata": {
        "id": "xozAxa4I2kWo",
        "colab_type": "code",
        "colab": {
          "base_uri": "https://localhost:8080/",
          "height": 202
        },
        "outputId": "a0db7fcc-8a05-4c98-c19d-6206b41fdd77"
      },
      "source": [
        "# データを区切る\n",
        "df_bin = df.copy()  # コピーしてビン区切りデータを入れる変数を作成\n",
        "del df_bin[\"t\"]  # 変数tは観測できないので削除\n",
        "\n",
        "# x：部下育成への熱心さ\n",
        "df_bin[\"x\"], x_bins = pd.qcut(df[\"x\"], 5, labels=[1, 2, 3, 4, 5], retbins=True)\n",
        "\n",
        "# Z：上司が「上司向け：部下とのキャリア面談のポイント研修」に参加したかどうか\n",
        "# ※qcutではなく、cutで値に応じて分割\n",
        "df_bin[\"Z\"], z_bins = pd.cut(df[\"Z\"], 2, labels=[0, 1], retbins=True)\n",
        "\n",
        "# Y：部下の面談の満足度\n",
        "df_bin[\"Y\"], y_bins = pd.qcut(df[\"Y\"], 5, labels=[1, 2, 3, 4, 5], retbins=True)\n",
        "\n",
        "# Y2：部下当人のチームメンバへの満足度 1から5の5段階\n",
        "# # ※qcutではなく、cutで値に応じて分割\n",
        "df_bin[\"Y2\"], y2_bins = pd.cut(\n",
        "    df[\"Y2\"], 5, labels=[1, 2, 3, 4, 5], retbins=True)\n",
        "\n",
        "# Y3：部下当人の仕事への満足度\n",
        "df_bin[\"Y3\"], y3_bins = pd.qcut(\n",
        "    df[\"Y3\"], 5, labels=[1, 2, 3, 4, 5], retbins=True)\n",
        "\n",
        "# Y4：部下当人の仕事のパフォーマンス\n",
        "df_bin[\"Y4\"], y4_bins = pd.qcut(\n",
        "    df[\"Y4\"], 5, labels=[1, 2, 3, 4, 5], retbins=True)\n",
        "\n",
        "# 確認\n",
        "df_bin.head()\n"
      ],
      "execution_count": 11,
      "outputs": [
        {
          "output_type": "execute_result",
          "data": {
            "text/html": [
              "<div>\n",
              "<style scoped>\n",
              "    .dataframe tbody tr th:only-of-type {\n",
              "        vertical-align: middle;\n",
              "    }\n",
              "\n",
              "    .dataframe tbody tr th {\n",
              "        vertical-align: top;\n",
              "    }\n",
              "\n",
              "    .dataframe thead th {\n",
              "        text-align: right;\n",
              "    }\n",
              "</style>\n",
              "<table border=\"1\" class=\"dataframe\">\n",
              "  <thead>\n",
              "    <tr style=\"text-align: right;\">\n",
              "      <th></th>\n",
              "      <th>x</th>\n",
              "      <th>Z</th>\n",
              "      <th>Y</th>\n",
              "      <th>Y2</th>\n",
              "      <th>Y3</th>\n",
              "      <th>Y4</th>\n",
              "    </tr>\n",
              "  </thead>\n",
              "  <tbody>\n",
              "    <tr>\n",
              "      <th>0</th>\n",
              "      <td>2</td>\n",
              "      <td>1</td>\n",
              "      <td>4</td>\n",
              "      <td>2</td>\n",
              "      <td>2</td>\n",
              "      <td>2</td>\n",
              "    </tr>\n",
              "    <tr>\n",
              "      <th>1</th>\n",
              "      <td>4</td>\n",
              "      <td>1</td>\n",
              "      <td>5</td>\n",
              "      <td>3</td>\n",
              "      <td>3</td>\n",
              "      <td>3</td>\n",
              "    </tr>\n",
              "    <tr>\n",
              "      <th>2</th>\n",
              "      <td>3</td>\n",
              "      <td>0</td>\n",
              "      <td>3</td>\n",
              "      <td>3</td>\n",
              "      <td>4</td>\n",
              "      <td>4</td>\n",
              "    </tr>\n",
              "    <tr>\n",
              "      <th>3</th>\n",
              "      <td>4</td>\n",
              "      <td>1</td>\n",
              "      <td>5</td>\n",
              "      <td>3</td>\n",
              "      <td>5</td>\n",
              "      <td>5</td>\n",
              "    </tr>\n",
              "    <tr>\n",
              "      <th>4</th>\n",
              "      <td>4</td>\n",
              "      <td>0</td>\n",
              "      <td>3</td>\n",
              "      <td>5</td>\n",
              "      <td>5</td>\n",
              "      <td>4</td>\n",
              "    </tr>\n",
              "  </tbody>\n",
              "</table>\n",
              "</div>"
            ],
            "text/plain": [
              "   x  Z  Y Y2 Y3 Y4\n",
              "0  2  1  4  2  2  2\n",
              "1  4  1  5  3  3  3\n",
              "2  3  0  3  3  4  4\n",
              "3  4  1  5  3  5  5\n",
              "4  4  0  3  5  5  4"
            ]
          },
          "metadata": {
            "tags": []
          },
          "execution_count": 11
        }
      ]
    },
    {
      "cell_type": "code",
      "metadata": {
        "id": "QD-T2c-VpUHq",
        "colab_type": "code",
        "colab": {}
      },
      "source": [
        "df_bin=df_bin.astype(int)"
      ],
      "execution_count": 0,
      "outputs": []
    },
    {
      "cell_type": "code",
      "metadata": {
        "id": "wTttSMRowu5M",
        "colab_type": "code",
        "colab": {
          "base_uri": "https://localhost:8080/",
          "height": 53
        },
        "outputId": "845a0f80-0eaf-4412-8203-bddd4a7526c6"
      },
      "source": [
        "y_bins"
      ],
      "execution_count": 48,
      "outputs": [
        {
          "output_type": "execute_result",
          "data": {
            "text/plain": [
              "array([1.67357962, 1.98063606, 2.10674618, 2.46110755, 2.61051474,\n",
              "       3.20740457])"
            ]
          },
          "metadata": {
            "tags": []
          },
          "execution_count": 48
        }
      ]
    },
    {
      "cell_type": "markdown",
      "metadata": {
        "id": "1TPIeXDg6QDG",
        "colab_type": "text"
      },
      "source": [
        "## PCアルゴリズムを実施"
      ]
    },
    {
      "cell_type": "markdown",
      "metadata": {
        "id": "4TM2J5kq6GOx",
        "colab_type": "text"
      },
      "source": [
        "## pgmpy（Python library for Probabilistic Graphical Models）によるPCアルゴリズム"
      ]
    },
    {
      "cell_type": "code",
      "metadata": {
        "id": "edNNPSLY6u6d",
        "colab_type": "code",
        "colab": {
          "base_uri": "https://localhost:8080/",
          "height": 35
        },
        "outputId": "8ebfaf76-31a9-4b96-9371-2c4eed538f95"
      },
      "source": [
        "!pip install pgmpy==0.1.9"
      ],
      "execution_count": 13,
      "outputs": [
        {
          "output_type": "stream",
          "text": [
            "Requirement already satisfied: pgmpy==0.1.9 in /usr/local/lib/python3.6/dist-packages (0.1.9)\n"
          ],
          "name": "stdout"
        }
      ]
    },
    {
      "cell_type": "code",
      "metadata": {
        "id": "wAeHIJiqOF-h",
        "colab_type": "code",
        "colab": {
          "base_uri": "https://localhost:8080/",
          "height": 377
        },
        "outputId": "5eba5876-60c6-4d7b-fe2a-2424aaa49fe1"
      },
      "source": [
        "from pgmpy.estimators import ConstraintBasedEstimator\n",
        "\n",
        "est = ConstraintBasedEstimator(df_bin)\n",
        "\n",
        "# 1次の独立性の検定\n",
        "print(est.test_conditional_independence('x', 'Z', method=\"chi_square\", tol=0.05))\n",
        "print(est.test_conditional_independence('x', 'Y', method=\"chi_square\", tol=0.05))\n",
        "print(est.test_conditional_independence('x', 'Y2', method=\"chi_square\", tol=0.05))\n",
        "print(est.test_conditional_independence('x', 'Y3', method=\"chi_square\", tol=0.05))\n",
        "print(est.test_conditional_independence('x', 'Y4', method=\"chi_square\", tol=0.05))\n",
        "print(\"=====\")\n",
        "print(est.test_conditional_independence('Z', 'Y', method=\"chi_square\", tol=0.05))\n",
        "print(est.test_conditional_independence('Z', 'Y2', method=\"chi_square\", tol=0.05))\n",
        "print(est.test_conditional_independence('Z', 'Y3', method=\"chi_square\", tol=0.05))\n",
        "print(est.test_conditional_independence('Z', 'Y4', method=\"chi_square\", tol=0.05))\n",
        "print(\"=====\")\n",
        "print(est.test_conditional_independence('Y', 'Y2', method=\"chi_square\", tol=0.05))\n",
        "print(est.test_conditional_independence('Y', 'Y3', method=\"chi_square\", tol=0.05))\n",
        "print(est.test_conditional_independence('Y', 'Y4', method=\"chi_square\", tol=0.05))\n",
        "print(\"=====\")\n",
        "print(est.test_conditional_independence('Y2', 'Y3', method=\"chi_square\", tol=0.05))\n",
        "print(est.test_conditional_independence('Y2', 'Y4', method=\"chi_square\", tol=0.05))\n",
        "print(\"=====\")\n",
        "print(est.test_conditional_independence('Y3', 'Y4', method=\"chi_square\", tol=0.05))\n",
        "print(\"=====\")"
      ],
      "execution_count": 14,
      "outputs": [
        {
          "output_type": "stream",
          "text": [
            "False\n",
            "False\n",
            "True\n",
            "False\n",
            "False\n",
            "=====\n",
            "False\n",
            "True\n",
            "False\n",
            "False\n",
            "=====\n",
            "True\n",
            "False\n",
            "False\n",
            "=====\n",
            "False\n",
            "False\n",
            "=====\n",
            "False\n",
            "=====\n"
          ],
          "name": "stdout"
        }
      ]
    },
    {
      "cell_type": "code",
      "metadata": {
        "id": "sJQ2_9LY8MQ8",
        "colab_type": "code",
        "colab": {
          "base_uri": "https://localhost:8080/",
          "height": 233
        },
        "outputId": "4064f537-d3c7-47da-9ef0-e676d0e1e58e"
      },
      "source": [
        "# 2次の独立性の検定 その1\n",
        "print(est.test_conditional_independence('x', 'Z', ['Y'], method=\"chi_square\", tol=0.05))\n",
        "print(est.test_conditional_independence('x', 'Z', ['Y3'], method=\"chi_square\", tol=0.05))\n",
        "print(est.test_conditional_independence('x', 'Z', ['Y4'], method=\"chi_square\", tol=0.05))\n",
        "\n",
        "print(est.test_conditional_independence('x', 'Y', ['Z'], method=\"chi_square\", tol=0.05))\n",
        "print(est.test_conditional_independence('x', 'Y', ['Y3'], method=\"chi_square\", tol=0.05))\n",
        "print(est.test_conditional_independence('x', 'Y', ['Y4'], method=\"chi_square\", tol=0.05))\n",
        "\n",
        "print(est.test_conditional_independence('x', 'Y3', ['Z'], method=\"chi_square\", tol=0.05))\n",
        "print(est.test_conditional_independence('x', 'Y3', ['Y'], method=\"chi_square\", tol=0.05))\n",
        "print(est.test_conditional_independence('x', 'Y3', ['Y4'], method=\"chi_square\", tol=0.05))\n",
        "\n",
        "print(est.test_conditional_independence('x', 'Y4', ['Z'], method=\"chi_square\", tol=0.05))\n",
        "print(est.test_conditional_independence('x', 'Y4', ['Y'], method=\"chi_square\", tol=0.05))\n",
        "print(est.test_conditional_independence('x', 'Y4', ['Y3'], method=\"chi_square\", tol=0.05))\n",
        "\n"
      ],
      "execution_count": 15,
      "outputs": [
        {
          "output_type": "stream",
          "text": [
            "False\n",
            "False\n",
            "False\n",
            "False\n",
            "False\n",
            "False\n",
            "False\n",
            "True\n",
            "True\n",
            "False\n",
            "True\n",
            "True\n"
          ],
          "name": "stdout"
        }
      ]
    },
    {
      "cell_type": "code",
      "metadata": {
        "id": "lo-4p3vBR6tH",
        "colab_type": "code",
        "colab": {
          "base_uri": "https://localhost:8080/",
          "height": 233
        },
        "outputId": "6311e115-6765-4643-996a-e65b5e8631bf"
      },
      "source": [
        "# 2次の独立性の検定 その2\n",
        "print(est.test_conditional_independence('Z', 'x', ['Y'], method=\"chi_square\", tol=0.05))\n",
        "print(est.test_conditional_independence('Z', 'x', ['Y3'], method=\"chi_square\", tol=0.05))\n",
        "print(est.test_conditional_independence('Z', 'x', ['Y4'], method=\"chi_square\", tol=0.05))\n",
        "\n",
        "print(est.test_conditional_independence('Z', 'Y', ['x'], method=\"chi_square\", tol=0.05))\n",
        "print(est.test_conditional_independence('Z', 'Y', ['Y3'], method=\"chi_square\", tol=0.05))\n",
        "print(est.test_conditional_independence('Z', 'Y', ['Y4'], method=\"chi_square\", tol=0.05))\n",
        "\n",
        "print(est.test_conditional_independence('Z', 'Y3', ['x'], method=\"chi_square\", tol=0.05))\n",
        "print(est.test_conditional_independence('Z', 'Y3', ['Y'], method=\"chi_square\", tol=0.05))\n",
        "print(est.test_conditional_independence('Z', 'Y3', ['Y4'], method=\"chi_square\", tol=0.05))\n",
        "\n",
        "print(est.test_conditional_independence('Z', 'Y4', ['x'], method=\"chi_square\", tol=0.05))\n",
        "print(est.test_conditional_independence('Z', 'Y4', ['Y'], method=\"chi_square\", tol=0.05))\n",
        "print(est.test_conditional_independence('Z', 'Y4', ['Y3'], method=\"chi_square\", tol=0.05))\n"
      ],
      "execution_count": 16,
      "outputs": [
        {
          "output_type": "stream",
          "text": [
            "False\n",
            "False\n",
            "False\n",
            "False\n",
            "False\n",
            "False\n",
            "False\n",
            "True\n",
            "False\n",
            "False\n",
            "True\n",
            "True\n"
          ],
          "name": "stdout"
        }
      ]
    },
    {
      "cell_type": "code",
      "metadata": {
        "id": "5ULve2thDTHu",
        "colab_type": "code",
        "colab": {
          "base_uri": "https://localhost:8080/",
          "height": 251
        },
        "outputId": "588d70b8-8db6-455c-8e5d-8dd3f1273aac"
      },
      "source": [
        "# 2次の独立性の検定 その3\n",
        "print(est.test_conditional_independence('Y', 'x', ['Z'], method=\"chi_square\", tol=0.05))\n",
        "print(est.test_conditional_independence('Y', 'x', ['Y3'], method=\"chi_square\", tol=0.05))\n",
        "print(est.test_conditional_independence('Y', 'x', ['Y4'], method=\"chi_square\", tol=0.05))\n",
        "\n",
        "print(est.test_conditional_independence('Y', 'Z', ['x'], method=\"chi_square\", tol=0.05))\n",
        "print(est.test_conditional_independence('Y', 'Z', ['Y3'], method=\"chi_square\", tol=0.05))\n",
        "print(est.test_conditional_independence('Y', 'Z', ['Y4'], method=\"chi_square\", tol=0.05))\n",
        "\n",
        "\n",
        "print(est.test_conditional_independence('Y', 'Y3', ['x'], method=\"chi_square\", tol=0.05))\n",
        "print(est.test_conditional_independence('Y', 'Y3', ['Z'], method=\"chi_square\", tol=0.05))\n",
        "print(est.test_conditional_independence('Y', 'Y3', ['Y4'], method=\"chi_square\", tol=0.05))\n",
        "\n",
        "print(est.test_conditional_independence('Y', 'Y4', ['x'], method=\"chi_square\", tol=0.05))\n",
        "print(est.test_conditional_independence('Y', 'Y4', ['Z'], method=\"chi_square\", tol=0.05))\n",
        "print(est.test_conditional_independence('Y', 'Y4', ['Y3'], method=\"chi_square\", tol=0.05))\n",
        "print(\"=====\")"
      ],
      "execution_count": 17,
      "outputs": [
        {
          "output_type": "stream",
          "text": [
            "False\n",
            "False\n",
            "False\n",
            "False\n",
            "False\n",
            "False\n",
            "False\n",
            "False\n",
            "False\n",
            "False\n",
            "False\n",
            "True\n",
            "=====\n"
          ],
          "name": "stdout"
        }
      ]
    },
    {
      "cell_type": "code",
      "metadata": {
        "id": "NP1Kr8BjS4Wf",
        "colab_type": "code",
        "colab": {
          "base_uri": "https://localhost:8080/",
          "height": 71
        },
        "outputId": "b7c0645f-af35-4daf-d0d1-bec96d7f290d"
      },
      "source": [
        "# 2次の独立性の検定 その4\n",
        "print(est.test_conditional_independence('Y2', 'Y3', ['Y4'], method=\"chi_square\", tol=0.05))\n",
        "print(est.test_conditional_independence('Y2', 'Y4', ['Y3'], method=\"chi_square\", tol=0.05))\n",
        "print(\"=====\")"
      ],
      "execution_count": 18,
      "outputs": [
        {
          "output_type": "stream",
          "text": [
            "False\n",
            "True\n",
            "=====\n"
          ],
          "name": "stdout"
        }
      ]
    },
    {
      "cell_type": "code",
      "metadata": {
        "colab_type": "code",
        "outputId": "8b3204cb-6083-48fd-fac0-5ab216bd3176",
        "id": "5qn5-JxwgJnE",
        "colab": {
          "base_uri": "https://localhost:8080/",
          "height": 125
        }
      },
      "source": [
        "# 2次の独立性の検定 その5\n",
        "print(est.test_conditional_independence('Y3', 'Y', ['Y2'], method=\"chi_square\", tol=0.05))\n",
        "print(est.test_conditional_independence('Y3', 'Y', ['Y4'], method=\"chi_square\", tol=0.05))\n",
        "\n",
        "print(est.test_conditional_independence('Y3', 'Y2', ['Y'], method=\"chi_square\", tol=0.05))\n",
        "print(est.test_conditional_independence('Y3', 'Y2', ['Y4'], method=\"chi_square\", tol=0.05))\n",
        "\n",
        "print(est.test_conditional_independence('Y3', 'Y4', ['Y'], method=\"chi_square\", tol=0.05))\n",
        "print(est.test_conditional_independence('Y3', 'Y4', ['Y2'], method=\"chi_square\", tol=0.05))\n"
      ],
      "execution_count": 19,
      "outputs": [
        {
          "output_type": "stream",
          "text": [
            "False\n",
            "False\n",
            "False\n",
            "False\n",
            "False\n",
            "False\n"
          ],
          "name": "stdout"
        }
      ]
    },
    {
      "cell_type": "code",
      "metadata": {
        "id": "dFA5qoZ7Ldgg",
        "colab_type": "code",
        "colab": {
          "base_uri": "https://localhost:8080/",
          "height": 89
        },
        "outputId": "8ae0cf2f-1861-492f-bc72-c8bc99acd107"
      },
      "source": [
        "# 方向づけ その1\n",
        "# x-Y-Y3\n",
        "print(est.test_conditional_independence('x', 'Y3', ['Y'], method=\"chi_square\", tol=0.05))\n",
        "# Y-Y3-Y2\n",
        "print(est.test_conditional_independence('Y', 'Y2', ['Y3'], method=\"chi_square\", tol=0.05))\n",
        "# Y2-Y3-Y4\n",
        "print(est.test_conditional_independence('Y2', 'Y4', ['Y3'], method=\"chi_square\", tol=0.05))\n",
        "# Z-Y-Y3\n",
        "print(est.test_conditional_independence('Z', 'Y3', ['Y'], method=\"chi_square\", tol=0.05))"
      ],
      "execution_count": 20,
      "outputs": [
        {
          "output_type": "stream",
          "text": [
            "True\n",
            "False\n",
            "True\n",
            "True\n"
          ],
          "name": "stdout"
        }
      ]
    },
    {
      "cell_type": "code",
      "metadata": {
        "id": "kMW1M3YbMi3h",
        "colab_type": "code",
        "colab": {
          "base_uri": "https://localhost:8080/",
          "height": 125
        },
        "outputId": "892be40b-e2f7-4ba1-d5a5-b10094dd5352"
      },
      "source": [
        "# 最後上の三角形が決まらない\n",
        "# BICを求め、比較\n",
        "from pgmpy.models import BayesianModel\n",
        "from pgmpy.estimators import BicScore\n",
        "\n",
        "model = BayesianModel([('x', 'Z'), ('x', 'Y'), ('Z', 'Y'), ('Y', 'Y3'), ('Y2', 'Y3'), ('Y3', 'Y4')])  \n",
        "print(BicScore(df_bin).score(model))\n",
        "\n",
        "model = BayesianModel([('x', 'Z'), ('x', 'Y'), ('Y', 'Z'), ('Y', 'Y3'), ('Y2', 'Y3'), ('Y3', 'Y4')])  \n",
        "print(BicScore(df_bin).score(model))\n",
        "\n",
        "model = BayesianModel([('Z', 'x'), ('Z', 'Y'), ('x', 'Y'), ('Y', 'Y3'), ('Y2', 'Y3'), ('Y3', 'Y4')])  \n",
        "print(BicScore(df_bin).score(model))\n",
        "\n",
        "model = BayesianModel([('Z', 'x'), ('Z', 'Y'), ('Y', 'x'), ('Y', 'Y3'), ('Y2', 'Y3'), ('Y3', 'Y4')])  \n",
        "print(BicScore(df_bin).score(model))\n",
        "\n",
        "model = BayesianModel([('Y', 'x'), ('Y', 'Z'), ('x', 'Z'), ('Y', 'Y3'), ('Y2', 'Y3'), ('Y3', 'Y4')])  \n",
        "print(BicScore(df_bin).score(model))\n",
        "\n",
        "model = BayesianModel([('Y', 'x'), ('Y', 'Z'), ('Z', 'x'), ('Y', 'Y3'), ('Y2', 'Y3'), ('Y3', 'Y4')])  \n",
        "print(BicScore(df_bin).score(model))"
      ],
      "execution_count": 21,
      "outputs": [
        {
          "output_type": "stream",
          "text": [
            "-13889.968253589917\n",
            "-13889.968253589916\n",
            "-13889.968253589917\n",
            "-13889.968253589917\n",
            "-13889.968253589917\n",
            "-13889.968253589917\n"
          ],
          "name": "stdout"
        }
      ]
    },
    {
      "cell_type": "code",
      "metadata": {
        "id": "DP8gHiu7lBDi",
        "colab_type": "code",
        "colab": {}
      },
      "source": [
        ""
      ],
      "execution_count": 0,
      "outputs": []
    },
    {
      "cell_type": "markdown",
      "metadata": {
        "id": "VQs6FwtelB2E",
        "colab_type": "text"
      },
      "source": [
        "## ベイジアンネットワークでの推論"
      ]
    },
    {
      "cell_type": "code",
      "metadata": {
        "id": "_OGwPSHbjOV1",
        "colab_type": "code",
        "colab": {
          "base_uri": "https://localhost:8080/",
          "height": 287
        },
        "outputId": "6867145a-02ab-4f73-9f29-420ea66da601"
      },
      "source": [
        "from pgmpy.models import BayesianModel\n",
        "from pgmpy.inference import VariableElimination\n",
        "\n",
        "# モデル構築\n",
        "model = BayesianModel([('x', 'Z'), ('x', 'Y'), ('Z', 'Y'), ('Y', 'Y3'), ('Y2', 'Y3'), ('Y3', 'Y4')]) \n",
        "# モデルにデータを与える\n",
        "model.fit(df_bin) \n",
        "\n",
        "# 変数消去アルゴリズムで推論\n",
        "infer = VariableElimination(model)\n",
        "#infer.induced_graph(['Y4', 'Y3', 'Y2', 'Y', 'Z', 'x'])\n",
        "obserbed_data = {'Z': 0, 'Y':3, 'Y2':3, 'Y3':3, 'Y4':3}  # 観測できているデータの一例\n",
        "x_dist = infer.query(['x'], evidence=obserbed_data)\n",
        "print(x_dist)\n",
        "\n"
      ],
      "execution_count": 45,
      "outputs": [
        {
          "output_type": "stream",
          "text": [
            "Finding Elimination Order: : : 0it [00:00, ?it/s]\n",
            "0it [00:00, ?it/s]"
          ],
          "name": "stderr"
        },
        {
          "output_type": "stream",
          "text": [
            "+------+----------+\n",
            "| x    |   phi(x) |\n",
            "+======+==========+\n",
            "| x(1) |   0.1139 |\n",
            "+------+----------+\n",
            "| x(2) |   0.1013 |\n",
            "+------+----------+\n",
            "| x(3) |   0.1835 |\n",
            "+------+----------+\n",
            "| x(4) |   0.2405 |\n",
            "+------+----------+\n",
            "| x(5) |   0.3608 |\n",
            "+------+----------+\n"
          ],
          "name": "stdout"
        },
        {
          "output_type": "stream",
          "text": [
            "\n"
          ],
          "name": "stderr"
        }
      ]
    },
    {
      "cell_type": "code",
      "metadata": {
        "id": "LJ9KrM5avEOv",
        "colab_type": "code",
        "colab": {
          "base_uri": "https://localhost:8080/",
          "height": 1000
        },
        "outputId": "5d039c99-aefd-4dcc-a9d1-31df37f65760"
      },
      "source": [
        "print(\"============\")\n",
        "obserbed_data = {'Y':5}  # 観測できているデータの一例\n",
        "x_dist = infer.query(['x'], evidence=obserbed_data)\n",
        "print(x_dist)\n",
        "\n",
        "print(\"============\")\n",
        "obserbed_data = {'Y':4}  # 観測できているデータの一例\n",
        "x_dist = infer.query(['x'], evidence=obserbed_data)\n",
        "print(x_dist)\n",
        "\n",
        "print(\"============\")\n",
        "obserbed_data = {'Y':3}  # 観測できているデータの一例\n",
        "x_dist = infer.query(['x'], evidence=obserbed_data)\n",
        "print(x_dist)\n",
        "\n",
        "print(\"============\")\n",
        "obserbed_data = {'Y':2}  # 観測できているデータの一例\n",
        "x_dist = infer.query(['x'], evidence=obserbed_data)\n",
        "print(x_dist)"
      ],
      "execution_count": 46,
      "outputs": [
        {
          "output_type": "stream",
          "text": [
            "Finding Elimination Order: : 100%|██████████| 4/4 [00:00<00:00, 690.85it/s]\n",
            "Eliminating: Y2: 100%|██████████| 4/4 [00:00<00:00, 286.86it/s]\n",
            "Finding Elimination Order: : 100%|██████████| 4/4 [00:00<00:00, 676.86it/s]\n",
            "Eliminating: Y2: 100%|██████████| 4/4 [00:00<00:00, 341.30it/s]\n",
            "Finding Elimination Order: : 100%|██████████| 4/4 [00:00<00:00, 1411.51it/s]\n",
            "Eliminating: Y2: 100%|██████████| 4/4 [00:00<00:00, 452.34it/s]\n",
            "Finding Elimination Order: : 100%|██████████| 4/4 [00:00<00:00, 1064.68it/s]\n",
            "Eliminating: Y2: 100%|██████████| 4/4 [00:00<00:00, 380.16it/s]"
          ],
          "name": "stderr"
        },
        {
          "output_type": "stream",
          "text": [
            "============\n",
            "+------+----------+\n",
            "| x    |   phi(x) |\n",
            "+======+==========+\n",
            "| x(1) |   0.0900 |\n",
            "+------+----------+\n",
            "| x(2) |   0.0975 |\n",
            "+------+----------+\n",
            "| x(3) |   0.2375 |\n",
            "+------+----------+\n",
            "| x(4) |   0.3350 |\n",
            "+------+----------+\n",
            "| x(5) |   0.2400 |\n",
            "+------+----------+\n",
            "============\n",
            "+------+----------+\n",
            "| x    |   phi(x) |\n",
            "+======+==========+\n",
            "| x(1) |   0.4600 |\n",
            "+------+----------+\n",
            "| x(2) |   0.3100 |\n",
            "+------+----------+\n",
            "| x(3) |   0.1975 |\n",
            "+------+----------+\n",
            "| x(4) |   0.0325 |\n",
            "+------+----------+\n",
            "| x(5) |   0.0000 |\n",
            "+------+----------+\n",
            "============\n",
            "+------+----------+\n",
            "| x    |   phi(x) |\n",
            "+======+==========+\n",
            "| x(1) |   0.3200 |\n",
            "+------+----------+\n",
            "| x(2) |   0.2700 |\n",
            "+------+----------+\n",
            "| x(3) |   0.1725 |\n",
            "+------+----------+\n",
            "| x(4) |   0.0950 |\n",
            "+------+----------+\n",
            "| x(5) |   0.1425 |\n",
            "+------+----------+\n",
            "============\n",
            "+------+----------+\n",
            "| x    |   phi(x) |\n",
            "+======+==========+\n",
            "| x(1) |   0.0800 |\n",
            "+------+----------+\n",
            "| x(2) |   0.1500 |\n",
            "+------+----------+\n",
            "| x(3) |   0.2000 |\n",
            "+------+----------+\n",
            "| x(4) |   0.2800 |\n",
            "+------+----------+\n",
            "| x(5) |   0.2900 |\n",
            "+------+----------+\n"
          ],
          "name": "stdout"
        },
        {
          "output_type": "stream",
          "text": [
            "\n"
          ],
          "name": "stderr"
        }
      ]
    },
    {
      "cell_type": "code",
      "metadata": {
        "id": "QFIDrEDbuDvp",
        "colab_type": "code",
        "colab": {}
      },
      "source": [
        ""
      ],
      "execution_count": 0,
      "outputs": []
    },
    {
      "cell_type": "code",
      "metadata": {
        "id": "UNbNZ8DFuQNF",
        "colab_type": "code",
        "colab": {}
      },
      "source": [
        "from google.colab import files\n",
        "df_bin.to_csv(\"aaa.csv\")\n",
        "files.download('aaa.csv')"
      ],
      "execution_count": 0,
      "outputs": []
    },
    {
      "cell_type": "markdown",
      "metadata": {
        "colab_type": "text",
        "id": "MGNG7pzi8LI6"
      },
      "source": [
        "以上"
      ]
    }
  ]
}