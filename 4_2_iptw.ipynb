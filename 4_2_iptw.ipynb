{
  "nbformat": 4,
  "nbformat_minor": 0,
  "metadata": {
    "colab": {
      "name": "4_2_iptw.ipynb",
      "provenance": [],
      "collapsed_sections": []
    },
    "kernelspec": {
      "name": "python3",
      "display_name": "Python 3"
    }
  },
  "cells": [
    {
      "cell_type": "markdown",
      "metadata": {
        "id": "d-IAJLC2k1NX",
        "colab_type": "text"
      },
      "source": [
        "# 4.2 逆確率重み付け法（IPTW）による因果推論\n",
        "\n",
        "本ファイルは、4.2節の実装です。\n",
        "\n",
        "4.1節と同じく、テレビCMの広告効果の推定を例に、回帰分析による因果推論を実装します。\n"
      ]
    },
    {
      "cell_type": "markdown",
      "metadata": {
        "id": "2XdIDbdlejUk",
        "colab_type": "text"
      },
      "source": [
        "## プログラム実行前の設定など"
      ]
    },
    {
      "cell_type": "code",
      "metadata": {
        "id": "wqHjwstVeXYt",
        "colab_type": "code",
        "colab": {}
      },
      "source": [
        "# 乱数のシードを設定\n",
        "import random\n",
        "import numpy as np\n",
        "\n",
        "np.random.seed(1234)\n",
        "random.seed(1234)\n"
      ],
      "execution_count": 0,
      "outputs": []
    },
    {
      "cell_type": "code",
      "metadata": {
        "id": "RIhcLRqlem3V",
        "colab_type": "code",
        "colab": {}
      },
      "source": [
        "# 使用するパッケージ（ライブラリと関数）を定義\n",
        "# 標準正規分布の生成用\n",
        "from numpy.random import *\n",
        "\n",
        "# グラフの描画用\n",
        "import matplotlib.pyplot as plt\n",
        "\n",
        "# SciPy 平均0、分散1に正規化（標準化）関数\n",
        "import scipy.stats\n",
        "\n",
        "# シグモイド関数をimport\n",
        "from scipy.special import expit\n",
        "\n",
        "# その他\n",
        "import pandas as pd\n"
      ],
      "execution_count": 0,
      "outputs": []
    },
    {
      "cell_type": "markdown",
      "metadata": {
        "id": "AWqP6yeQlI_t",
        "colab_type": "text"
      },
      "source": [
        "## データの作成"
      ]
    },
    {
      "cell_type": "code",
      "metadata": {
        "id": "EJaQIHz4fNXb",
        "colab_type": "code",
        "colab": {}
      },
      "source": [
        "# データ数\n",
        "num_data = 200\n",
        "\n",
        "# 年齢\n",
        "x_1 = randint(15, 76, num_data)  # 15から75歳の一様乱数\n",
        "\n",
        "# 性別（0を女性、1を男性とします）\n",
        "x_2 = randint(0, 2, num_data)  # 0か1の乱数\n"
      ],
      "execution_count": 0,
      "outputs": []
    },
    {
      "cell_type": "markdown",
      "metadata": {
        "id": "JiT_gc5ZmAQa",
        "colab_type": "text"
      },
      "source": [
        "## テレビCMを見たかどうか"
      ]
    },
    {
      "cell_type": "code",
      "metadata": {
        "id": "hfPbhhm6gvW6",
        "colab_type": "code",
        "colab": {}
      },
      "source": [
        "# ノイズの生成\n",
        "e_z = randn(num_data)\n",
        "\n",
        "# シグモイド関数に入れる部分\n",
        "z_base = x_1 + (1-x_2)*10 - 40 + 5*e_z\n",
        "\n",
        "# シグモイド関数を計算\n",
        "z_prob = expit(0.1*z_base)\n",
        "\n",
        "# テレビCMを見たかどうかの変数（0は見ていない、1は見た）\n",
        "Z = np.array([])\n",
        "\n",
        "for i in range(num_data):\n",
        "    Z_i = np.random.choice(2, size=1, p=[1-z_prob[i], z_prob[i]])[0]\n",
        "    Z = np.append(Z, Z_i)\n"
      ],
      "execution_count": 0,
      "outputs": []
    },
    {
      "cell_type": "markdown",
      "metadata": {
        "id": "b2PLquJGi2Te",
        "colab_type": "text"
      },
      "source": [
        "## 購入量Yを作成"
      ]
    },
    {
      "cell_type": "code",
      "metadata": {
        "id": "nv-ELtFqi5L5",
        "colab_type": "code",
        "colab": {}
      },
      "source": [
        "# ノイズの生成\n",
        "e_y = randn(num_data)\n",
        "\n",
        "Y = -x_1 + 30*x_2 + 10*Z + 80 + 10*e_y\n"
      ],
      "execution_count": 0,
      "outputs": []
    },
    {
      "cell_type": "markdown",
      "metadata": {
        "id": "BHcdUlW9koTa",
        "colab_type": "text"
      },
      "source": [
        "## データをまとめた表を作成し、平均値を比べる"
      ]
    },
    {
      "cell_type": "code",
      "metadata": {
        "id": "HPqwrISXktRj",
        "colab_type": "code",
        "outputId": "9ad6013c-9715-481b-d68a-17fdd3edd281",
        "colab": {
          "base_uri": "https://localhost:8080/",
          "height": 195
        }
      },
      "source": [
        "df = pd.DataFrame({'年齢': x_1,\n",
        "                   '性別': x_2,\n",
        "                   'CMを見た': Z,\n",
        "                   '購入量': Y,\n",
        "                   })\n",
        "\n",
        "df.head()  # 先頭を表示\n"
      ],
      "execution_count": 6,
      "outputs": [
        {
          "output_type": "execute_result",
          "data": {
            "text/html": [
              "<div>\n",
              "<style scoped>\n",
              "    .dataframe tbody tr th:only-of-type {\n",
              "        vertical-align: middle;\n",
              "    }\n",
              "\n",
              "    .dataframe tbody tr th {\n",
              "        vertical-align: top;\n",
              "    }\n",
              "\n",
              "    .dataframe thead th {\n",
              "        text-align: right;\n",
              "    }\n",
              "</style>\n",
              "<table border=\"1\" class=\"dataframe\">\n",
              "  <thead>\n",
              "    <tr style=\"text-align: right;\">\n",
              "      <th></th>\n",
              "      <th>年齢</th>\n",
              "      <th>性別</th>\n",
              "      <th>CMを見た</th>\n",
              "      <th>購入量</th>\n",
              "    </tr>\n",
              "  </thead>\n",
              "  <tbody>\n",
              "    <tr>\n",
              "      <th>0</th>\n",
              "      <td>62</td>\n",
              "      <td>0</td>\n",
              "      <td>1.0</td>\n",
              "      <td>24.464285</td>\n",
              "    </tr>\n",
              "    <tr>\n",
              "      <th>1</th>\n",
              "      <td>34</td>\n",
              "      <td>0</td>\n",
              "      <td>0.0</td>\n",
              "      <td>45.693411</td>\n",
              "    </tr>\n",
              "    <tr>\n",
              "      <th>2</th>\n",
              "      <td>53</td>\n",
              "      <td>1</td>\n",
              "      <td>1.0</td>\n",
              "      <td>64.998281</td>\n",
              "    </tr>\n",
              "    <tr>\n",
              "      <th>3</th>\n",
              "      <td>68</td>\n",
              "      <td>1</td>\n",
              "      <td>1.0</td>\n",
              "      <td>47.186898</td>\n",
              "    </tr>\n",
              "    <tr>\n",
              "      <th>4</th>\n",
              "      <td>27</td>\n",
              "      <td>1</td>\n",
              "      <td>0.0</td>\n",
              "      <td>100.114260</td>\n",
              "    </tr>\n",
              "  </tbody>\n",
              "</table>\n",
              "</div>"
            ],
            "text/plain": [
              "   年齢  性別  CMを見た         購入量\n",
              "0  62   0    1.0   24.464285\n",
              "1  34   0    0.0   45.693411\n",
              "2  53   1    1.0   64.998281\n",
              "3  68   1    1.0   47.186898\n",
              "4  27   1    0.0  100.114260"
            ]
          },
          "metadata": {
            "tags": []
          },
          "execution_count": 6
        }
      ]
    },
    {
      "cell_type": "code",
      "metadata": {
        "id": "HHInQ1Sukrg0",
        "colab_type": "code",
        "outputId": "ec83304b-9f7c-4334-93a9-c13022813ae9",
        "colab": {
          "base_uri": "https://localhost:8080/",
          "height": 210
        }
      },
      "source": [
        "# 平均値を比べる\n",
        "\n",
        "print(df[df[\"CMを見た\"] == 1.0].mean())\n",
        "print(\"--------\")\n",
        "print(df[df[\"CMを見た\"] == 0.0].mean())\n"
      ],
      "execution_count": 7,
      "outputs": [
        {
          "output_type": "stream",
          "text": [
            "年齢       55.836066\n",
            "性別        0.483607\n",
            "CMを見た     1.000000\n",
            "購入量      49.711478\n",
            "dtype: float64\n",
            "--------\n",
            "年齢       32.141026\n",
            "性別        0.692308\n",
            "CMを見た     0.000000\n",
            "購入量      68.827143\n",
            "dtype: float64\n"
          ],
          "name": "stdout"
        }
      ]
    },
    {
      "cell_type": "markdown",
      "metadata": {
        "id": "kwKOk59aogBd",
        "colab_type": "text"
      },
      "source": [
        "## ここからが4.1節と異なります。傾向スコアの推定"
      ]
    },
    {
      "cell_type": "code",
      "metadata": {
        "id": "rBtHC3smoiMC",
        "colab_type": "code",
        "outputId": "95ab93a5-7d8e-4226-f654-e1351b2537ba",
        "colab": {
          "base_uri": "https://localhost:8080/",
          "height": 52
        }
      },
      "source": [
        "# scikit-learnからロジスティク回帰をimport\n",
        "# https://scikit-learn.org/stable/modules/generated/sklearn.linear_model.LogisticRegression.html\n",
        "from sklearn.linear_model import LogisticRegression\n",
        "\n",
        "# 説明変数\n",
        "X = df[[\"年齢\", \"性別\"]]\n",
        "\n",
        "# 被説明変数（目的変数）\n",
        "Z = df[\"CMを見た\"]\n",
        "\n",
        "# 回帰の実施\n",
        "reg = LogisticRegression().fit(X,Z)\n",
        "\n",
        "# 回帰した結果の係数を出力\n",
        "print(\"係数beta：\", reg.coef_)\n",
        "print(\"係数alpha：\", reg.intercept_)"
      ],
      "execution_count": 8,
      "outputs": [
        {
          "output_type": "stream",
          "text": [
            "係数beta： [[ 0.10562765 -1.38263933]]\n",
            "係数alpha： [-3.37146523]\n"
          ],
          "name": "stdout"
        }
      ]
    },
    {
      "cell_type": "markdown",
      "metadata": {
        "id": "nV0dm82l3QXy",
        "colab_type": "text"
      },
      "source": [
        "### 各人の傾向スコアを求める"
      ]
    },
    {
      "cell_type": "code",
      "metadata": {
        "id": "gGCKiujL3P1i",
        "colab_type": "code",
        "colab": {
          "base_uri": "https://localhost:8080/",
          "height": 228
        },
        "outputId": "c9201825-cd6f-41fa-aec2-52858d82b59e"
      },
      "source": [
        "Z_pre = reg.predict_proba(X)\n",
        "print(Z_pre[0:5])  # 5人ほどの結果を見てみる\n",
        "print(\"----\")\n",
        "print(Z[0:5])  # 5人ほどの正解\n"
      ],
      "execution_count": 9,
      "outputs": [
        {
          "output_type": "stream",
          "text": [
            "[[0.04002323 0.95997677]\n",
            " [0.44525168 0.55474832]\n",
            " [0.30065918 0.69934082]\n",
            " [0.08101946 0.91898054]\n",
            " [0.87013558 0.12986442]]\n",
            "----\n",
            "0    1.0\n",
            "1    0.0\n",
            "2    1.0\n",
            "3    1.0\n",
            "4    0.0\n",
            "Name: CMを見た, dtype: float64\n"
          ],
          "name": "stdout"
        }
      ]
    },
    {
      "cell_type": "markdown",
      "metadata": {
        "colab_type": "text",
        "id": "wL-hlBN36DZf"
      },
      "source": [
        "### 平均処置効果ATEを求める"
      ]
    },
    {
      "cell_type": "code",
      "metadata": {
        "id": "6Ujy7JJa6Gwi",
        "colab_type": "code",
        "colab": {
          "base_uri": "https://localhost:8080/",
          "height": 34
        },
        "outputId": "2c4ab7d4-2393-4937-ed5e-5e394fe2116d"
      },
      "source": [
        "ATE_i = Y/Z_pre[:, 1]*Z - Y/Z_pre[:, 0]*(1-Z)\n",
        "ATE = 1/len(Y)*ATE_i.sum()\n",
        "print(\"推定したATE\", ATE)\n"
      ],
      "execution_count": 10,
      "outputs": [
        {
          "output_type": "stream",
          "text": [
            "推定したATE 8.847476810855458\n"
          ],
          "name": "stdout"
        }
      ]
    },
    {
      "cell_type": "markdown",
      "metadata": {
        "id": "1IdVhXmMps-w",
        "colab_type": "text"
      },
      "source": [
        "以上"
      ]
    }
  ]
}