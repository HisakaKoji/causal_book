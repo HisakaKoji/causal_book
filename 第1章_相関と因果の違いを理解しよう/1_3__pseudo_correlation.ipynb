{
  "nbformat": 4,
  "nbformat_minor": 0,
  "metadata": {
    "colab": {
      "name": "1_3_ pseudo_correlation.ipynb",
      "provenance": [],
      "collapsed_sections": []
    },
    "kernelspec": {
      "name": "python3",
      "display_name": "Python 3"
    }
  },
  "cells": [
    {
      "cell_type": "markdown",
      "metadata": {
        "id": "VQXhIfZRu7bb",
        "colab_type": "text"
      },
      "source": [
        "# 1.5　Google Colaboratoryを用いたPythonプログラミング：疑似相関の確認¶\n",
        "\n",
        "本ファイルでは、1.2節で紹介した疑似相関が生まれる3パターン（因果が逆、共通の原因：交絡、合流点での選抜）を、実際にPythonでプログラミングして確認します。"
      ]
    },
    {
      "cell_type": "markdown",
      "metadata": {
        "id": "P3r9Dbdug3Zz",
        "colab_type": "text"
      },
      "source": [
        "# 疑似相関が生まれる4つの例"
      ]
    },
    {
      "cell_type": "code",
      "metadata": {
        "id": "YgbDBCAoUx3u",
        "colab_type": "code",
        "colab": {}
      },
      "source": [
        "# 乱数のシードを固定\n",
        "import random\n",
        "import numpy as np\n",
        "\n",
        "random.seed(1234)\n",
        "np.random.seed(1234)\n"
      ],
      "execution_count": 0,
      "outputs": []
    },
    {
      "cell_type": "code",
      "metadata": {
        "id": "HIK5zUKjVjwD",
        "colab_type": "code",
        "colab": {}
      },
      "source": [
        "# 使用するパッケージ（ライブラリと関数）を定義\n",
        "# SciPy 平均0、分散1に正規化（標準化）関数\n",
        "import scipy.stats\n",
        "\n",
        "# 標準正規分布の生成用\n",
        "from numpy.random import randn\n",
        "\n",
        "# グラフの描画用\n",
        "import matplotlib.pyplot as plt\n",
        "%matplotlib inline\n"
      ],
      "execution_count": 0,
      "outputs": []
    },
    {
      "cell_type": "markdown",
      "metadata": {
        "colab_type": "text",
        "id": "taEvjTYeXnTp"
      },
      "source": [
        "## 0. xからyへ因果が存在する場合のモデル\n"
      ]
    },
    {
      "cell_type": "code",
      "metadata": {
        "colab_type": "code",
        "id": "e19euWfrXnTo",
        "colab": {}
      },
      "source": [
        "# ノイズの生成\n",
        "num_data = 200\n",
        "e_x = randn(num_data)\n",
        "e_y = randn(num_data)\n",
        "\n",
        "# データの生成\n",
        "x = e_x\n",
        "y = 2*x + e_y\n"
      ],
      "execution_count": 0,
      "outputs": []
    },
    {
      "cell_type": "code",
      "metadata": {
        "colab_type": "code",
        "id": "155MXhLlXnTl",
        "colab": {
          "base_uri": "https://localhost:8080/",
          "height": 53
        },
        "outputId": "d9f1334b-a5c4-4f89-eaef-7f98f41baafd"
      },
      "source": [
        "# 相関係数を求める\n",
        "np.corrcoef(x, y)\n"
      ],
      "execution_count": 7,
      "outputs": [
        {
          "output_type": "execute_result",
          "data": {
            "text/plain": [
              "array([[1.        , 0.88011578],\n",
              "       [0.88011578, 1.        ]])"
            ]
          },
          "metadata": {
            "tags": []
          },
          "execution_count": 7
        }
      ]
    },
    {
      "cell_type": "code",
      "metadata": {
        "colab_type": "code",
        "outputId": "56554846-cea7-4229-f370-d376638dd8cf",
        "id": "uhxETB8sXnTb",
        "colab": {
          "base_uri": "https://localhost:8080/",
          "height": 283
        }
      },
      "source": [
        "# 標準化\n",
        "x_std = scipy.stats.zscore(x)\n",
        "y_std = scipy.stats.zscore(y)\n",
        "\n",
        "# 散布図を描画\n",
        "plt.scatter(x_std, y_std)\n"
      ],
      "execution_count": 8,
      "outputs": [
        {
          "output_type": "execute_result",
          "data": {
            "text/plain": [
              "<matplotlib.collections.PathCollection at 0x7fed08be6e48>"
            ]
          },
          "metadata": {
            "tags": []
          },
          "execution_count": 8
        },
        {
          "output_type": "display_data",
          "data": {
            "image/png": "[encoded data removed]",
            "text/plain": [
              "<Figure size 432x288 with 1 Axes>"
            ]
          },
          "metadata": {
            "tags": []
          }
        }
      ]
    },
    {
      "cell_type": "markdown",
      "metadata": {
        "colab_type": "text",
        "id": "sYR8NTK9Xpkb"
      },
      "source": [
        "# 1. 疑似相関：因果が逆\n"
      ]
    },
    {
      "cell_type": "code",
      "metadata": {
        "colab_type": "code",
        "id": "w5N1wvWiXpkc",
        "colab": {
          "base_uri": "https://localhost:8080/",
          "height": 53
        },
        "outputId": "9f4e2fc1-7400-457d-a7fc-0c4239f65768"
      },
      "source": [
        "# ノイズの生成\n",
        "num_data = 200\n",
        "e_x = randn(num_data)\n",
        "e_y = randn(num_data)\n",
        "\n",
        "# データの生成\n",
        "y = e_y\n",
        "x = 2*y + e_x\n",
        "\n",
        "# 相関係数を求める\n",
        "np.corrcoef(x, y)\n"
      ],
      "execution_count": 9,
      "outputs": [
        {
          "output_type": "execute_result",
          "data": {
            "text/plain": [
              "array([[1.        , 0.87975464],\n",
              "       [0.87975464, 1.        ]])"
            ]
          },
          "metadata": {
            "tags": []
          },
          "execution_count": 9
        }
      ]
    },
    {
      "cell_type": "code",
      "metadata": {
        "colab_type": "code",
        "outputId": "f98f5194-304a-43fc-e79d-e48a373f6a9a",
        "id": "0mgFdiNGXpkl",
        "colab": {
          "base_uri": "https://localhost:8080/",
          "height": 283
        }
      },
      "source": [
        "# 標準化\n",
        "x_std = scipy.stats.zscore(x)\n",
        "y_std = scipy.stats.zscore(y)\n",
        "\n",
        "# 散布図を描画\n",
        "plt.scatter(x_std, y_std)\n"
      ],
      "execution_count": 10,
      "outputs": [
        {
          "output_type": "execute_result",
          "data": {
            "text/plain": [
              "<matplotlib.collections.PathCollection at 0x7fed05f21470>"
            ]
          },
          "metadata": {
            "tags": []
          },
          "execution_count": 10
        },
        {
          "output_type": "display_data",
          "data": {
            "image/png": "[encoded data removed]",
            "text/plain": [
              "<Figure size 432x288 with 1 Axes>"
            ]
          },
          "metadata": {
            "tags": []
          }
        }
      ]
    },
    {
      "cell_type": "markdown",
      "metadata": {
        "colab_type": "text",
        "id": "nW3lHT8baGGd"
      },
      "source": [
        "# 2. 疑似相関：共通の原因（交絡）\n"
      ]
    },
    {
      "cell_type": "code",
      "metadata": {
        "colab_type": "code",
        "id": "VV6Y6VOoaGGg",
        "colab": {
          "base_uri": "https://localhost:8080/",
          "height": 53
        },
        "outputId": "f7d5e94c-428d-403b-a5a9-3d57041279e4"
      },
      "source": [
        "# ノイズの生成\n",
        "num_data = 200\n",
        "e_x = randn(num_data)\n",
        "e_y = randn(num_data)\n",
        "e_z = randn(num_data)\n",
        "\n",
        "# データの生成\n",
        "x = 3.3*e_z + e_x\n",
        "y = 3.3*e_z + e_y\n",
        "\n",
        "# 相関係数を求める\n",
        "np.corrcoef(x, y)\n"
      ],
      "execution_count": 12,
      "outputs": [
        {
          "output_type": "execute_result",
          "data": {
            "text/plain": [
              "array([[1.        , 0.89922269],\n",
              "       [0.89922269, 1.        ]])"
            ]
          },
          "metadata": {
            "tags": []
          },
          "execution_count": 12
        }
      ]
    },
    {
      "cell_type": "code",
      "metadata": {
        "colab_type": "code",
        "id": "yRzrQfzjaGGp",
        "colab": {
          "base_uri": "https://localhost:8080/",
          "height": 283
        },
        "outputId": "53abdb2f-b84a-49c0-e56b-3da63a56749a"
      },
      "source": [
        "# 標準化\n",
        "x_std = scipy.stats.zscore(x)\n",
        "y_std = scipy.stats.zscore(y)\n",
        "\n",
        "# 散布図を描画\n",
        "plt.scatter(x_std, y_std)\n"
      ],
      "execution_count": 13,
      "outputs": [
        {
          "output_type": "execute_result",
          "data": {
            "text/plain": [
              "<matplotlib.collections.PathCollection at 0x7fed05e385f8>"
            ]
          },
          "metadata": {
            "tags": []
          },
          "execution_count": 13
        },
        {
          "output_type": "display_data",
          "data": {
            "image/png": "[encoded data removed]",
            "text/plain": [
              "<Figure size 432x288 with 1 Axes>"
            ]
          },
          "metadata": {
            "tags": []
          }
        }
      ]
    },
    {
      "cell_type": "markdown",
      "metadata": {
        "colab_type": "text",
        "id": "3qAbjVueaqa-"
      },
      "source": [
        "# 3. 疑似相関：合流点での選抜\n",
        "\n"
      ]
    },
    {
      "cell_type": "code",
      "metadata": {
        "colab_type": "code",
        "id": "c6oCMPXZaqbE",
        "colab": {
          "base_uri": "https://localhost:8080/",
          "height": 283
        },
        "outputId": "6a7f2944-7f72-4fc3-ad22-b69296a10177"
      },
      "source": [
        "# ノイズの生成\n",
        "num_data = 600\n",
        "e_x = randn(num_data)\n",
        "e_y = randn(num_data)\n",
        "\n",
        "# データの生成 1\n",
        "x = e_x\n",
        "y = e_y\n",
        "\n",
        "# 散布図を描画\n",
        "plt.scatter(x, y)\n"
      ],
      "execution_count": 14,
      "outputs": [
        {
          "output_type": "execute_result",
          "data": {
            "text/plain": [
              "<matplotlib.collections.PathCollection at 0x7fed05e0ecf8>"
            ]
          },
          "metadata": {
            "tags": []
          },
          "execution_count": 14
        },
        {
          "output_type": "display_data",
          "data": {
            "image/png": "[encoded data removed]",
            "text/plain": [
              "<Figure size 432x288 with 1 Axes>"
            ]
          },
          "metadata": {
            "tags": []
          }
        }
      ]
    },
    {
      "cell_type": "code",
      "metadata": {
        "id": "8QnH-TXSeVmF",
        "colab_type": "code",
        "colab": {
          "base_uri": "https://localhost:8080/",
          "height": 53
        },
        "outputId": "83667b79-992b-4a82-9d67-2d544015b4aa"
      },
      "source": [
        "# 相関係数を求める\n",
        "np.corrcoef(x, y)\n"
      ],
      "execution_count": 17,
      "outputs": [
        {
          "output_type": "execute_result",
          "data": {
            "text/plain": [
              "array([[1.        , 0.08098049],\n",
              "       [0.08098049, 1.        ]])"
            ]
          },
          "metadata": {
            "tags": []
          },
          "execution_count": 17
        }
      ]
    },
    {
      "cell_type": "code",
      "metadata": {
        "id": "FwsqmncZfH5X",
        "colab_type": "code",
        "colab": {
          "base_uri": "https://localhost:8080/",
          "height": 283
        },
        "outputId": "8abc6011-b49b-43f1-b6b6-8d8f27680305"
      },
      "source": [
        "# 合流点を作成\n",
        "z = x + y\n",
        "\n",
        "# 新たな合流点での条件を満たす変数の用意\n",
        "x_new = np.array([])\n",
        "y_new = np.array([])\n",
        "\n",
        "# zの値が0以上で選抜してnew変数に追加（append）します\n",
        "for i in range(num_data):\n",
        "  if z[i] > 0.0:\n",
        "    x_new = np.append(x_new, x[i])\n",
        "    y_new = np.append(y_new, y[i])\n",
        "\n",
        "# 散布図を描画\n",
        "plt.scatter(x_new, y_new)\n"
      ],
      "execution_count": 15,
      "outputs": [
        {
          "output_type": "execute_result",
          "data": {
            "text/plain": [
              "<matplotlib.collections.PathCollection at 0x7fed05d4eda0>"
            ]
          },
          "metadata": {
            "tags": []
          },
          "execution_count": 15
        },
        {
          "output_type": "display_data",
          "data": {
            "image/png": "[encoded data removed]",
            "text/plain": [
              "<Figure size 432x288 with 1 Axes>"
            ]
          },
          "metadata": {
            "tags": []
          }
        }
      ]
    },
    {
      "cell_type": "code",
      "metadata": {
        "colab_type": "code",
        "outputId": "8aa4033a-3620-4f63-e172-be3eed9a450b",
        "id": "3rnlM5zzaqbL",
        "colab": {
          "base_uri": "https://localhost:8080/",
          "height": 53
        }
      },
      "source": [
        "# 相関係数を求める\n",
        "np.corrcoef(x_new, y_new)\n"
      ],
      "execution_count": 16,
      "outputs": [
        {
          "output_type": "execute_result",
          "data": {
            "text/plain": [
              "array([[ 1.        , -0.40705829],\n",
              "       [-0.40705829,  1.        ]])"
            ]
          },
          "metadata": {
            "tags": []
          },
          "execution_count": 16
        }
      ]
    },
    {
      "cell_type": "markdown",
      "metadata": {
        "id": "qgLJlLgQ9tud",
        "colab_type": "text"
      },
      "source": [
        "以上。"
      ]
    }
  ]
}