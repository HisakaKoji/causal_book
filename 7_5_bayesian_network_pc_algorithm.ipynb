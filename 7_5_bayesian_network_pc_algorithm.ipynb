{
  "nbformat": 4,
  "nbformat_minor": 0,
  "metadata": {
    "kernelspec": {
      "name": "python3",
      "display_name": "Python 3"
    },
    "colab": {
      "name": "7_5_bayesian_network_pc_algorithm.ipynb",
      "provenance": [],
      "collapsed_sections": []
    }
  },
  "cells": [
    {
      "cell_type": "markdown",
      "metadata": {
        "id": "aoxI3DOK9vm2",
        "colab_type": "text"
      },
      "source": [
        "# 7.5 PCアルゴリズムによるベイジアンネットワーク探索の実装\n",
        "\n",
        "本ファイルは、7.5節の実装です。\n",
        "\n",
        "5.3節で使用した人事研修の効果を拡張した模擬データを作成し、因果探索を実施します。"
      ]
    },
    {
      "cell_type": "markdown",
      "metadata": {
        "id": "2XdIDbdlejUk",
        "colab_type": "text"
      },
      "source": [
        "## プログラム実行前の設定など"
      ]
    },
    {
      "cell_type": "code",
      "metadata": {
        "id": "XZFKJwcu-_Oj",
        "colab_type": "code",
        "colab": {}
      },
      "source": [
        "# 乱数のシードを設定\n",
        "import random\n",
        "import numpy as np\n",
        "\n",
        "np.random.seed(1234)\n",
        "random.seed(1234)\n"
      ],
      "execution_count": 0,
      "outputs": []
    },
    {
      "cell_type": "code",
      "metadata": {
        "id": "hx1idArc_F15",
        "colab_type": "code",
        "colab": {}
      },
      "source": [
        "# 使用するパッケージ（ライブラリと関数）を定義\n",
        "# 標準正規分布の生成用\n",
        "from numpy.random import *\n",
        "\n",
        "# グラフの描画用\n",
        "import matplotlib.pyplot as plt\n",
        "\n",
        "# SciPy 平均0、分散1に正規化（標準化）関数\n",
        "import scipy.stats\n",
        "\n",
        "# シグモイド関数をimport\n",
        "from scipy.special import expit\n",
        "\n",
        "# その他\n",
        "import pandas as pd\n"
      ],
      "execution_count": 0,
      "outputs": []
    },
    {
      "cell_type": "markdown",
      "metadata": {
        "id": "AWqP6yeQlI_t",
        "colab_type": "text"
      },
      "source": [
        "## データの作成"
      ]
    },
    {
      "cell_type": "code",
      "metadata": {
        "id": "DpnGB2KZ_L8x",
        "colab_type": "code",
        "colab": {}
      },
      "source": [
        "# データ数\n",
        "num_data = 2000\n",
        "\n",
        "# 部下育成への熱心さ\n",
        "x = np.random.uniform(low=-1, high=1, size=num_data)  # -1から1の一様乱数\n",
        "\n",
        "# 上司が「上司向け：部下とのキャリア面談のポイント研修」に参加したかどうか\n",
        "e_z = randn(num_data)  # ノイズの生成\n",
        "z_prob = expit(-5.0*x+5*e_z)\n",
        "Z = np.array([])\n",
        "\n",
        "# 上司が「上司向け：部下とのキャリア面談のポイント研修」に参加したかどうか\n",
        "for i in range(num_data):\n",
        "    Z_i = np.random.choice(2, size=1, p=[1-z_prob[i], z_prob[i]])[0]\n",
        "    Z = np.append(Z, Z_i)\n",
        "\n",
        "# 介入効果の非線形性：部下育成の熱心さxの値に応じて段階的に変化\n",
        "t = np.zeros(num_data)\n",
        "for i in range(num_data):\n",
        "    if x[i] < 0:\n",
        "        t[i] = 0.5\n",
        "    elif x[i] >= 0 and x[i] < 0.5:\n",
        "        t[i] = 0.7\n",
        "    elif x[i] >= 0.5:\n",
        "        t[i] = 1.0\n",
        "\n",
        "e_y = randn(num_data)\n",
        "Y = 2.0 + t*Z + 0.3*x + 0.1*e_y \n"
      ],
      "execution_count": 0,
      "outputs": []
    },
    {
      "cell_type": "code",
      "metadata": {
        "id": "RwfHdcKFzL8o",
        "colab_type": "code",
        "colab": {}
      },
      "source": [
        "# 本章からの追加データを生成\n",
        "\n",
        "# Y2：部下当人のチームメンバへの満足度 1から5の5段階\n",
        "Y2 = np.random.choice([1.0, 2.0, 3.0, 4.0, 5.0],\n",
        "                      num_data, p=[0.1, 0.2, 0.3, 0.2, 0.2])\n",
        "\n",
        "# Y3：部下当人の仕事への満足度\n",
        "e_y3 = randn(num_data)\n",
        "Y3 = 3*Y + Y2 + e_y3\n",
        "\n",
        "# Y4：部下当人の仕事のパフォーマンス\n",
        "e_y4 = randn(num_data)\n",
        "Y4 = 3*Y3 + 5 + 2*e_y4 \n"
      ],
      "execution_count": 0,
      "outputs": []
    },
    {
      "cell_type": "markdown",
      "metadata": {
        "id": "BHcdUlW9koTa",
        "colab_type": "text"
      },
      "source": [
        "## データをまとめた表を作成し、可視化する"
      ]
    },
    {
      "cell_type": "code",
      "metadata": {
        "id": "1EMwdGIIIPrK",
        "colab_type": "code",
        "outputId": "9cb4b233-e2e9-46c6-bc3f-59fc168d1933",
        "colab": {
          "base_uri": "https://localhost:8080/",
          "height": 195
        }
      },
      "source": [
        "df = pd.DataFrame({'x': x,\n",
        "                   'Z': Z,\n",
        "                   't': t,\n",
        "                   'Y': Y,\n",
        "                   'Y2': Y2,\n",
        "                   'Y3': Y3,\n",
        "                   'Y4': Y4,\n",
        "                   })\n",
        "\n",
        "df.head()  # 先頭を表示\n"
      ],
      "execution_count": 5,
      "outputs": [
        {
          "output_type": "execute_result",
          "data": {
            "text/html": [
              "<div>\n",
              "<style scoped>\n",
              "    .dataframe tbody tr th:only-of-type {\n",
              "        vertical-align: middle;\n",
              "    }\n",
              "\n",
              "    .dataframe tbody tr th {\n",
              "        vertical-align: top;\n",
              "    }\n",
              "\n",
              "    .dataframe thead th {\n",
              "        text-align: right;\n",
              "    }\n",
              "</style>\n",
              "<table border=\"1\" class=\"dataframe\">\n",
              "  <thead>\n",
              "    <tr style=\"text-align: right;\">\n",
              "      <th></th>\n",
              "      <th>x</th>\n",
              "      <th>Z</th>\n",
              "      <th>t</th>\n",
              "      <th>Y</th>\n",
              "      <th>Y2</th>\n",
              "      <th>Y3</th>\n",
              "      <th>Y4</th>\n",
              "    </tr>\n",
              "  </thead>\n",
              "  <tbody>\n",
              "    <tr>\n",
              "      <th>0</th>\n",
              "      <td>-0.616961</td>\n",
              "      <td>1.0</td>\n",
              "      <td>0.5</td>\n",
              "      <td>2.286924</td>\n",
              "      <td>2.0</td>\n",
              "      <td>8.732544</td>\n",
              "      <td>30.326507</td>\n",
              "    </tr>\n",
              "    <tr>\n",
              "      <th>1</th>\n",
              "      <td>0.244218</td>\n",
              "      <td>1.0</td>\n",
              "      <td>0.7</td>\n",
              "      <td>2.864636</td>\n",
              "      <td>3.0</td>\n",
              "      <td>10.743959</td>\n",
              "      <td>37.149014</td>\n",
              "    </tr>\n",
              "    <tr>\n",
              "      <th>2</th>\n",
              "      <td>-0.124545</td>\n",
              "      <td>0.0</td>\n",
              "      <td>0.5</td>\n",
              "      <td>2.198515</td>\n",
              "      <td>3.0</td>\n",
              "      <td>10.569163</td>\n",
              "      <td>38.481185</td>\n",
              "    </tr>\n",
              "    <tr>\n",
              "      <th>3</th>\n",
              "      <td>0.570717</td>\n",
              "      <td>1.0</td>\n",
              "      <td>1.0</td>\n",
              "      <td>3.230572</td>\n",
              "      <td>3.0</td>\n",
              "      <td>12.312526</td>\n",
              "      <td>43.709229</td>\n",
              "    </tr>\n",
              "    <tr>\n",
              "      <th>4</th>\n",
              "      <td>0.559952</td>\n",
              "      <td>0.0</td>\n",
              "      <td>1.0</td>\n",
              "      <td>2.459267</td>\n",
              "      <td>5.0</td>\n",
              "      <td>12.418739</td>\n",
              "      <td>40.833938</td>\n",
              "    </tr>\n",
              "  </tbody>\n",
              "</table>\n",
              "</div>"
            ],
            "text/plain": [
              "          x    Z    t         Y   Y2         Y3         Y4\n",
              "0 -0.616961  1.0  0.5  2.286924  2.0   8.732544  30.326507\n",
              "1  0.244218  1.0  0.7  2.864636  3.0  10.743959  37.149014\n",
              "2 -0.124545  0.0  0.5  2.198515  3.0  10.569163  38.481185\n",
              "3  0.570717  1.0  1.0  3.230572  3.0  12.312526  43.709229\n",
              "4  0.559952  0.0  1.0  2.459267  5.0  12.418739  40.833938"
            ]
          },
          "metadata": {
            "tags": []
          },
          "execution_count": 5
        }
      ]
    },
    {
      "cell_type": "code",
      "metadata": {
        "id": "L6Tb2Hjk9vno",
        "colab_type": "code",
        "outputId": "4feb3954-cc63-499f-ad32-d522f304c3fa",
        "colab": {
          "base_uri": "https://localhost:8080/",
          "height": 282
        }
      },
      "source": [
        "# グラフで確認\n",
        "plt.scatter(x, Y)\n"
      ],
      "execution_count": 6,
      "outputs": [
        {
          "output_type": "execute_result",
          "data": {
            "text/plain": [
              "<matplotlib.collections.PathCollection at 0x7f266dcc5208>"
            ]
          },
          "metadata": {
            "tags": []
          },
          "execution_count": 6
        },
        {
          "output_type": "display_data",
          "data": {
            "image/png": "[encoded data removed]",
            "text/plain": [
              "<Figure size 432x288 with 1 Axes>"
            ]
          },
          "metadata": {
            "tags": [],
            "needs_background": "light"
          }
        }
      ]
    },
    {
      "cell_type": "code",
      "metadata": {
        "id": "zpUlt74J0jq-",
        "colab_type": "code",
        "outputId": "61bcd66e-fef5-490a-9e16-da3546b4339c",
        "colab": {
          "base_uri": "https://localhost:8080/",
          "height": 282
        }
      },
      "source": [
        "# グラフで確認\n",
        "plt.scatter(x, Y2)\n"
      ],
      "execution_count": 7,
      "outputs": [
        {
          "output_type": "execute_result",
          "data": {
            "text/plain": [
              "<matplotlib.collections.PathCollection at 0x7f266b4439b0>"
            ]
          },
          "metadata": {
            "tags": []
          },
          "execution_count": 7
        },
        {
          "output_type": "display_data",
          "data": {
            "image/png": "[encoded data removed]",
            "text/plain": [
              "<Figure size 432x288 with 1 Axes>"
            ]
          },
          "metadata": {
            "tags": [],
            "needs_background": "light"
          }
        }
      ]
    },
    {
      "cell_type": "code",
      "metadata": {
        "id": "UlLscNMF0ndN",
        "colab_type": "code",
        "outputId": "f2a13f84-8632-4c9a-d7d0-7c5bbca699bb",
        "colab": {
          "base_uri": "https://localhost:8080/",
          "height": 282
        }
      },
      "source": [
        "# グラフで確認\n",
        "plt.scatter(x, Y3)\n"
      ],
      "execution_count": 8,
      "outputs": [
        {
          "output_type": "execute_result",
          "data": {
            "text/plain": [
              "<matplotlib.collections.PathCollection at 0x7f266afa05c0>"
            ]
          },
          "metadata": {
            "tags": []
          },
          "execution_count": 8
        },
        {
          "output_type": "display_data",
          "data": {
            "image/png": "[encoded data removed]",
            "text/plain": [
              "<Figure size 432x288 with 1 Axes>"
            ]
          },
          "metadata": {
            "tags": [],
            "needs_background": "light"
          }
        }
      ]
    },
    {
      "cell_type": "code",
      "metadata": {
        "id": "y04PV60K0p25",
        "colab_type": "code",
        "outputId": "45740fb3-344d-4d9e-de3e-7ea942c54f0a",
        "colab": {
          "base_uri": "https://localhost:8080/",
          "height": 282
        }
      },
      "source": [
        "# グラフで確認\n",
        "plt.scatter(x, Y4)\n"
      ],
      "execution_count": 9,
      "outputs": [
        {
          "output_type": "execute_result",
          "data": {
            "text/plain": [
              "<matplotlib.collections.PathCollection at 0x7f266af06f28>"
            ]
          },
          "metadata": {
            "tags": []
          },
          "execution_count": 9
        },
        {
          "output_type": "display_data",
          "data": {
            "image/png": "[encoded data removed]",
            "text/plain": [
              "<Figure size 432x288 with 1 Axes>"
            ]
          },
          "metadata": {
            "tags": [],
            "needs_background": "light"
          }
        }
      ]
    },
    {
      "cell_type": "markdown",
      "metadata": {
        "colab_type": "text",
        "id": "AeC7Uv29KsXC"
      },
      "source": [
        "## データをビンで区切る"
      ]
    },
    {
      "cell_type": "code",
      "metadata": {
        "id": "xp2P-IDT9vql",
        "colab_type": "code",
        "outputId": "94c166e5-69ca-4074-b727-05e636a5e32a",
        "colab": {
          "base_uri": "https://localhost:8080/",
          "height": 281
        }
      },
      "source": [
        "# ビン区切りの例\n",
        "# cutを使用すると閾値で区切れる\n",
        "# qcutを使用すると同じデータ数になるように区切る\n",
        "s_qcut, bins = pd.cut(df[\"Y\"], 5, labels=[1, 2, 3, 4, 5], retbins=True)\n",
        "\n",
        "print(s_qcut)\n",
        "print(\"=======\")\n",
        "print(bins)\n"
      ],
      "execution_count": 10,
      "outputs": [
        {
          "output_type": "stream",
          "text": [
            "0       2\n",
            "1       4\n",
            "2       2\n",
            "3       5\n",
            "4       3\n",
            "       ..\n",
            "1995    2\n",
            "1996    2\n",
            "1997    2\n",
            "1998    2\n",
            "1999    2\n",
            "Name: Y, Length: 2000, dtype: category\n",
            "Categories (5, int64): [1 < 2 < 3 < 4 < 5]\n",
            "=======\n",
            "[1.532537   1.92223596 2.30999611 2.69775627 3.08551643 3.47327659]\n"
          ],
          "name": "stdout"
        }
      ]
    },
    {
      "cell_type": "code",
      "metadata": {
        "id": "xozAxa4I2kWo",
        "colab_type": "code",
        "outputId": "b1c62a6b-f611-4fa5-a32a-f2a56ebbacd5",
        "colab": {
          "base_uri": "https://localhost:8080/",
          "height": 195
        }
      },
      "source": [
        "# データを区切る\n",
        "df_bin = df.copy()  # コピーしてビン区切りデータを入れる変数を作成\n",
        "del df_bin[\"t\"]  # 変数tは観測できないので削除\n",
        "\n",
        "# x：部下育成への熱心さ\n",
        "df_bin[\"x\"], x_bins = pd.cut(df[\"x\"], 5, labels=[1, 2, 3, 4, 5], retbins=True)\n",
        "\n",
        "# Z：上司が「上司向け：部下とのキャリア面談のポイント研修」に参加したかどうか\n",
        "# ※qcutではなく、cutで値に応じて分割\n",
        "df_bin[\"Z\"], z_bins = pd.cut(df[\"Z\"], 2, labels=[0, 1], retbins=True)\n",
        "\n",
        "# Y：部下の面談の満足度\n",
        "df_bin[\"Y\"], y_bins = pd.cut(df[\"Y\"], 5, labels=[1, 2, 3, 4, 5], retbins=True)\n",
        "\n",
        "# Y2：部下当人のチームメンバへの満足度 1から5の5段階\n",
        "# # ※qcutではなく、cutで値に応じて分割\n",
        "df_bin[\"Y2\"], y2_bins = pd.cut(\n",
        "    df[\"Y2\"], 5, labels=[1, 2, 3, 4, 5], retbins=True)\n",
        "\n",
        "# Y3：部下当人の仕事への満足度\n",
        "df_bin[\"Y3\"], y3_bins = pd.cut(\n",
        "    df[\"Y3\"], 5, labels=[1, 2, 3, 4, 5], retbins=True)\n",
        "\n",
        "# Y4：部下当人の仕事のパフォーマンス\n",
        "df_bin[\"Y4\"], y4_bins = pd.cut(\n",
        "    df[\"Y4\"], 5, labels=[1, 2, 3, 4, 5], retbins=True)\n",
        "\n",
        "# 確認\n",
        "df_bin.head()\n"
      ],
      "execution_count": 11,
      "outputs": [
        {
          "output_type": "execute_result",
          "data": {
            "text/html": [
              "<div>\n",
              "<style scoped>\n",
              "    .dataframe tbody tr th:only-of-type {\n",
              "        vertical-align: middle;\n",
              "    }\n",
              "\n",
              "    .dataframe tbody tr th {\n",
              "        vertical-align: top;\n",
              "    }\n",
              "\n",
              "    .dataframe thead th {\n",
              "        text-align: right;\n",
              "    }\n",
              "</style>\n",
              "<table border=\"1\" class=\"dataframe\">\n",
              "  <thead>\n",
              "    <tr style=\"text-align: right;\">\n",
              "      <th></th>\n",
              "      <th>x</th>\n",
              "      <th>Z</th>\n",
              "      <th>Y</th>\n",
              "      <th>Y2</th>\n",
              "      <th>Y3</th>\n",
              "      <th>Y4</th>\n",
              "    </tr>\n",
              "  </thead>\n",
              "  <tbody>\n",
              "    <tr>\n",
              "      <th>0</th>\n",
              "      <td>1</td>\n",
              "      <td>1</td>\n",
              "      <td>2</td>\n",
              "      <td>2</td>\n",
              "      <td>2</td>\n",
              "      <td>2</td>\n",
              "    </tr>\n",
              "    <tr>\n",
              "      <th>1</th>\n",
              "      <td>4</td>\n",
              "      <td>1</td>\n",
              "      <td>4</td>\n",
              "      <td>3</td>\n",
              "      <td>3</td>\n",
              "      <td>3</td>\n",
              "    </tr>\n",
              "    <tr>\n",
              "      <th>2</th>\n",
              "      <td>3</td>\n",
              "      <td>0</td>\n",
              "      <td>2</td>\n",
              "      <td>3</td>\n",
              "      <td>3</td>\n",
              "      <td>3</td>\n",
              "    </tr>\n",
              "    <tr>\n",
              "      <th>3</th>\n",
              "      <td>4</td>\n",
              "      <td>1</td>\n",
              "      <td>5</td>\n",
              "      <td>3</td>\n",
              "      <td>4</td>\n",
              "      <td>4</td>\n",
              "    </tr>\n",
              "    <tr>\n",
              "      <th>4</th>\n",
              "      <td>4</td>\n",
              "      <td>0</td>\n",
              "      <td>3</td>\n",
              "      <td>5</td>\n",
              "      <td>4</td>\n",
              "      <td>3</td>\n",
              "    </tr>\n",
              "  </tbody>\n",
              "</table>\n",
              "</div>"
            ],
            "text/plain": [
              "   x  Z  Y Y2 Y3 Y4\n",
              "0  1  1  2  2  2  2\n",
              "1  4  1  4  3  3  3\n",
              "2  3  0  2  3  3  3\n",
              "3  4  1  5  3  4  4\n",
              "4  4  0  3  5  4  3"
            ]
          },
          "metadata": {
            "tags": []
          },
          "execution_count": 11
        }
      ]
    },
    {
      "cell_type": "code",
      "metadata": {
        "id": "QD-T2c-VpUHq",
        "colab_type": "code",
        "colab": {}
      },
      "source": [
        "#df_bin=df_bin.astype(int)"
      ],
      "execution_count": 0,
      "outputs": []
    },
    {
      "cell_type": "markdown",
      "metadata": {
        "id": "1TPIeXDg6QDG",
        "colab_type": "text"
      },
      "source": [
        "## PCアルゴリズムを実施"
      ]
    },
    {
      "cell_type": "markdown",
      "metadata": {
        "id": "4TM2J5kq6GOx",
        "colab_type": "text"
      },
      "source": [
        "## pgmpy（Python library for Probabilistic Graphical Models）によるPCアルゴリズム"
      ]
    },
    {
      "cell_type": "code",
      "metadata": {
        "id": "edNNPSLY6u6d",
        "colab_type": "code",
        "outputId": "481ed76b-5422-4273-ccb6-9319136df513",
        "colab": {
          "base_uri": "https://localhost:8080/",
          "height": 105
        }
      },
      "source": [
        "!pip install pgmpy==0.1.9"
      ],
      "execution_count": 13,
      "outputs": [
        {
          "output_type": "stream",
          "text": [
            "Collecting pgmpy==0.1.9\n",
            "\u001b[?25l  Downloading https://files.pythonhosted.org/packages/5a/b1/18dfdfcb10dcce71fd39f8c6801407e9aebd953939682558a5317e4a021c/pgmpy-0.1.9-py3-none-any.whl (331kB)\n",
            "\r\u001b[K     |█                               | 10kB 16.0MB/s eta 0:00:01\r\u001b[K     |██                              | 20kB 2.9MB/s eta 0:00:01\r\u001b[K     |███                             | 30kB 4.0MB/s eta 0:00:01\r\u001b[K     |████                            | 40kB 4.4MB/s eta 0:00:01\r\u001b[K     |█████                           | 51kB 3.4MB/s eta 0:00:01\r\u001b[K     |██████                          | 61kB 3.9MB/s eta 0:00:01\r\u001b[K     |███████                         | 71kB 4.1MB/s eta 0:00:01\r\u001b[K     |████████                        | 81kB 4.4MB/s eta 0:00:01\r\u001b[K     |█████████                       | 92kB 4.8MB/s eta 0:00:01\r\u001b[K     |█████████▉                      | 102kB 4.5MB/s eta 0:00:01\r\u001b[K     |██████████▉                     | 112kB 4.5MB/s eta 0:00:01\r\u001b[K     |███████████▉                    | 122kB 4.5MB/s eta 0:00:01\r\u001b[K     |████████████▉                   | 133kB 4.5MB/s eta 0:00:01\r\u001b[K     |█████████████▉                  | 143kB 4.5MB/s eta 0:00:01\r\u001b[K     |██████████████▉                 | 153kB 4.5MB/s eta 0:00:01\r\u001b[K     |███████████████▉                | 163kB 4.5MB/s eta 0:00:01\r\u001b[K     |████████████████▉               | 174kB 4.5MB/s eta 0:00:01\r\u001b[K     |█████████████████▉              | 184kB 4.5MB/s eta 0:00:01\r\u001b[K     |██████████████████▊             | 194kB 4.5MB/s eta 0:00:01\r\u001b[K     |███████████████████▊            | 204kB 4.5MB/s eta 0:00:01\r\u001b[K     |████████████████████▊           | 215kB 4.5MB/s eta 0:00:01\r\u001b[K     |█████████████████████▊          | 225kB 4.5MB/s eta 0:00:01\r\u001b[K     |██████████████████████▊         | 235kB 4.5MB/s eta 0:00:01\r\u001b[K     |███████████████████████▊        | 245kB 4.5MB/s eta 0:00:01\r\u001b[K     |████████████████████████▊       | 256kB 4.5MB/s eta 0:00:01\r\u001b[K     |█████████████████████████▊      | 266kB 4.5MB/s eta 0:00:01\r\u001b[K     |██████████████████████████▊     | 276kB 4.5MB/s eta 0:00:01\r\u001b[K     |███████████████████████████▋    | 286kB 4.5MB/s eta 0:00:01\r\u001b[K     |████████████████████████████▋   | 296kB 4.5MB/s eta 0:00:01\r\u001b[K     |█████████████████████████████▋  | 307kB 4.5MB/s eta 0:00:01\r\u001b[K     |██████████████████████████████▋ | 317kB 4.5MB/s eta 0:00:01\r\u001b[K     |███████████████████████████████▋| 327kB 4.5MB/s eta 0:00:01\r\u001b[K     |████████████████████████████████| 337kB 4.5MB/s \n",
            "\u001b[?25hInstalling collected packages: pgmpy\n",
            "Successfully installed pgmpy-0.1.9\n"
          ],
          "name": "stdout"
        }
      ]
    },
    {
      "cell_type": "code",
      "metadata": {
        "id": "wAeHIJiqOF-h",
        "colab_type": "code",
        "outputId": "f39fe04f-4363-496b-d1a5-0b48a1dcff32",
        "colab": {
          "base_uri": "https://localhost:8080/",
          "height": 404
        }
      },
      "source": [
        "from pgmpy.estimators import ConstraintBasedEstimator\n",
        "\n",
        "est = ConstraintBasedEstimator(df_bin)\n",
        "\n",
        "# 0次の独立性の検定\n",
        "print(est.test_conditional_independence(\n",
        "    'x', 'Z', method=\"chi_square\", tol=0.05))\n",
        "print(est.test_conditional_independence(\n",
        "    'x', 'Y', method=\"chi_square\", tol=0.05))\n",
        "print(est.test_conditional_independence(\n",
        "    'x', 'Y2', method=\"chi_square\", tol=0.05))\n",
        "print(est.test_conditional_independence(\n",
        "    'x', 'Y3', method=\"chi_square\", tol=0.05))\n",
        "print(est.test_conditional_independence(\n",
        "    'x', 'Y4', method=\"chi_square\", tol=0.05))\n",
        "print(\"=====\")\n",
        "print(est.test_conditional_independence(\n",
        "    'Z', 'Y', method=\"chi_square\", tol=0.05))\n",
        "print(est.test_conditional_independence(\n",
        "    'Z', 'Y2', method=\"chi_square\", tol=0.05))\n",
        "print(est.test_conditional_independence(\n",
        "    'Z', 'Y3', method=\"chi_square\", tol=0.05))\n",
        "print(est.test_conditional_independence(\n",
        "    'Z', 'Y4', method=\"chi_square\", tol=0.05))\n",
        "print(\"=====\")\n",
        "print(est.test_conditional_independence(\n",
        "    'Y', 'Y2', method=\"chi_square\", tol=0.05))\n",
        "print(est.test_conditional_independence(\n",
        "    'Y', 'Y3', method=\"chi_square\", tol=0.05))\n",
        "print(est.test_conditional_independence(\n",
        "    'Y', 'Y4', method=\"chi_square\", tol=0.05))\n",
        "print(\"=====\")\n",
        "print(est.test_conditional_independence(\n",
        "    'Y2', 'Y3', method=\"chi_square\", tol=0.05))\n",
        "print(est.test_conditional_independence(\n",
        "    'Y2', 'Y4', method=\"chi_square\", tol=0.05))\n",
        "print(\"=====\")\n",
        "print(est.test_conditional_independence(\n",
        "    'Y3', 'Y4', method=\"chi_square\", tol=0.05))\n",
        "print(\"=====\")\n"
      ],
      "execution_count": 14,
      "outputs": [
        {
          "output_type": "stream",
          "text": [
            "/usr/local/lib/python3.6/dist-packages/statsmodels/tools/_testing.py:19: FutureWarning: pandas.util.testing is deprecated. Use the functions in the public API at pandas.testing instead.\n",
            "  import pandas.util.testing as tm\n"
          ],
          "name": "stderr"
        },
        {
          "output_type": "stream",
          "text": [
            "False\n",
            "False\n",
            "True\n",
            "False\n",
            "False\n",
            "=====\n",
            "False\n",
            "True\n",
            "False\n",
            "False\n",
            "=====\n",
            "True\n",
            "False\n",
            "False\n",
            "=====\n",
            "False\n",
            "False\n",
            "=====\n",
            "False\n",
            "=====\n"
          ],
          "name": "stdout"
        }
      ]
    },
    {
      "cell_type": "code",
      "metadata": {
        "id": "sJQ2_9LY8MQ8",
        "colab_type": "code",
        "outputId": "af8e44c9-bc0f-476c-b8d5-43c9a13de331",
        "colab": {
          "base_uri": "https://localhost:8080/",
          "height": 228
        }
      },
      "source": [
        "# 1次の独立性の検定 変数x\n",
        "print(est.test_conditional_independence(\n",
        "    'x', 'Z', ['Y'], method=\"chi_square\", tol=0.05))\n",
        "print(est.test_conditional_independence(\n",
        "    'x', 'Z', ['Y3'], method=\"chi_square\", tol=0.05))\n",
        "print(est.test_conditional_independence(\n",
        "    'x', 'Z', ['Y4'], method=\"chi_square\", tol=0.05))\n",
        "\n",
        "print(est.test_conditional_independence(\n",
        "    'x', 'Y', ['Z'], method=\"chi_square\", tol=0.05))\n",
        "print(est.test_conditional_independence(\n",
        "    'x', 'Y', ['Y3'], method=\"chi_square\", tol=0.05))\n",
        "print(est.test_conditional_independence(\n",
        "    'x', 'Y', ['Y4'], method=\"chi_square\", tol=0.05))\n",
        "\n",
        "print(est.test_conditional_independence(\n",
        "    'x', 'Y3', ['Z'], method=\"chi_square\", tol=0.05))\n",
        "print(est.test_conditional_independence(\n",
        "    'x', 'Y3', ['Y'], method=\"chi_square\", tol=0.05))\n",
        "print(est.test_conditional_independence(\n",
        "    'x', 'Y3', ['Y4'], method=\"chi_square\", tol=0.05))\n",
        "\n",
        "print(est.test_conditional_independence(\n",
        "    'x', 'Y4', ['Z'], method=\"chi_square\", tol=0.05))\n",
        "print(est.test_conditional_independence(\n",
        "    'x', 'Y4', ['Y'], method=\"chi_square\", tol=0.05))\n",
        "print(est.test_conditional_independence(\n",
        "    'x', 'Y4', ['Y3'], method=\"chi_square\", tol=0.05))\n"
      ],
      "execution_count": 15,
      "outputs": [
        {
          "output_type": "stream",
          "text": [
            "False\n",
            "False\n",
            "False\n",
            "False\n",
            "False\n",
            "False\n",
            "False\n",
            "True\n",
            "True\n",
            "False\n",
            "True\n",
            "True\n"
          ],
          "name": "stdout"
        }
      ]
    },
    {
      "cell_type": "code",
      "metadata": {
        "id": "lo-4p3vBR6tH",
        "colab_type": "code",
        "outputId": "5f55374b-b7e4-4a0d-b9b5-74b4a39052f2",
        "colab": {
          "base_uri": "https://localhost:8080/",
          "height": 228
        }
      },
      "source": [
        "# 1次の独立性の検定 変数Z\n",
        "print(est.test_conditional_independence(\n",
        "    'Z', 'x', ['Y'], method=\"chi_square\", tol=0.05))\n",
        "print(est.test_conditional_independence(\n",
        "    'Z', 'x', ['Y3'], method=\"chi_square\", tol=0.05))\n",
        "print(est.test_conditional_independence(\n",
        "    'Z', 'x', ['Y4'], method=\"chi_square\", tol=0.05))\n",
        "\n",
        "print(est.test_conditional_independence(\n",
        "    'Z', 'Y', ['x'], method=\"chi_square\", tol=0.05))\n",
        "print(est.test_conditional_independence(\n",
        "    'Z', 'Y', ['Y3'], method=\"chi_square\", tol=0.05))\n",
        "print(est.test_conditional_independence(\n",
        "    'Z', 'Y', ['Y4'], method=\"chi_square\", tol=0.05))\n",
        "\n",
        "print(est.test_conditional_independence(\n",
        "    'Z', 'Y3', ['x'], method=\"chi_square\", tol=0.05))\n",
        "print(est.test_conditional_independence(\n",
        "    'Z', 'Y3', ['Y'], method=\"chi_square\", tol=0.05))\n",
        "print(est.test_conditional_independence(\n",
        "    'Z', 'Y3', ['Y4'], method=\"chi_square\", tol=0.05))\n",
        "\n",
        "print(est.test_conditional_independence(\n",
        "    'Z', 'Y4', ['x'], method=\"chi_square\", tol=0.05))\n",
        "print(est.test_conditional_independence(\n",
        "    'Z', 'Y4', ['Y'], method=\"chi_square\", tol=0.05))\n",
        "print(est.test_conditional_independence(\n",
        "    'Z', 'Y4', ['Y3'], method=\"chi_square\", tol=0.05))\n"
      ],
      "execution_count": 16,
      "outputs": [
        {
          "output_type": "stream",
          "text": [
            "False\n",
            "False\n",
            "False\n",
            "False\n",
            "False\n",
            "False\n",
            "False\n",
            "True\n",
            "False\n",
            "False\n",
            "True\n",
            "True\n"
          ],
          "name": "stdout"
        }
      ]
    },
    {
      "cell_type": "code",
      "metadata": {
        "id": "5ULve2thDTHu",
        "colab_type": "code",
        "outputId": "20c71f28-f660-4492-f79e-aa0922fdc517",
        "colab": {
          "base_uri": "https://localhost:8080/",
          "height": 228
        }
      },
      "source": [
        "# 1次の独立性の検定 変数Y\n",
        "print(est.test_conditional_independence(\n",
        "    'Y', 'x', ['Z'], method=\"chi_square\", tol=0.05))\n",
        "print(est.test_conditional_independence(\n",
        "    'Y', 'x', ['Y3'], method=\"chi_square\", tol=0.05))\n",
        "print(est.test_conditional_independence(\n",
        "    'Y', 'x', ['Y4'], method=\"chi_square\", tol=0.05))\n",
        "\n",
        "print(est.test_conditional_independence(\n",
        "    'Y', 'Z', ['x'], method=\"chi_square\", tol=0.05))\n",
        "print(est.test_conditional_independence(\n",
        "    'Y', 'Z', ['Y3'], method=\"chi_square\", tol=0.05))\n",
        "print(est.test_conditional_independence(\n",
        "    'Y', 'Z', ['Y4'], method=\"chi_square\", tol=0.05))\n",
        "\n",
        "print(est.test_conditional_independence(\n",
        "    'Y', 'Y3', ['x'], method=\"chi_square\", tol=0.05))\n",
        "print(est.test_conditional_independence(\n",
        "    'Y', 'Y3', ['Z'], method=\"chi_square\", tol=0.05))\n",
        "print(est.test_conditional_independence(\n",
        "    'Y', 'Y3', ['Y4'], method=\"chi_square\", tol=0.05))\n",
        "\n",
        "print(est.test_conditional_independence(\n",
        "    'Y', 'Y4', ['x'], method=\"chi_square\", tol=0.05))\n",
        "print(est.test_conditional_independence(\n",
        "    'Y', 'Y4', ['Z'], method=\"chi_square\", tol=0.05))\n",
        "print(est.test_conditional_independence(\n",
        "    'Y', 'Y4', ['Y3'], method=\"chi_square\", tol=0.05))\n"
      ],
      "execution_count": 17,
      "outputs": [
        {
          "output_type": "stream",
          "text": [
            "False\n",
            "False\n",
            "False\n",
            "False\n",
            "False\n",
            "False\n",
            "False\n",
            "False\n",
            "False\n",
            "False\n",
            "False\n",
            "True\n"
          ],
          "name": "stdout"
        }
      ]
    },
    {
      "cell_type": "code",
      "metadata": {
        "id": "NP1Kr8BjS4Wf",
        "colab_type": "code",
        "outputId": "13b83964-cf57-42b0-fc6b-c917e65e46cc",
        "colab": {
          "base_uri": "https://localhost:8080/",
          "height": 52
        }
      },
      "source": [
        "# 1次の独立性の検定 変数Y2\n",
        "print(est.test_conditional_independence(\n",
        "    'Y2', 'Y3', ['Y4'], method=\"chi_square\", tol=0.05))\n",
        "print(est.test_conditional_independence(\n",
        "    'Y2', 'Y4', ['Y3'], method=\"chi_square\", tol=0.05))\n"
      ],
      "execution_count": 18,
      "outputs": [
        {
          "output_type": "stream",
          "text": [
            "False\n",
            "True\n"
          ],
          "name": "stdout"
        }
      ]
    },
    {
      "cell_type": "code",
      "metadata": {
        "colab_type": "code",
        "outputId": "feb4185c-cd40-4565-c66a-8ed6d6f92438",
        "id": "5qn5-JxwgJnE",
        "colab": {
          "base_uri": "https://localhost:8080/",
          "height": 122
        }
      },
      "source": [
        "# 1次の独立性の検定 変数Y\n",
        "print(est.test_conditional_independence(\n",
        "    'Y3', 'Y', ['Y2'], method=\"chi_square\", tol=0.05))\n",
        "print(est.test_conditional_independence(\n",
        "    'Y3', 'Y', ['Y4'], method=\"chi_square\", tol=0.05))\n",
        "\n",
        "print(est.test_conditional_independence(\n",
        "    'Y3', 'Y2', ['Y'], method=\"chi_square\", tol=0.05))\n",
        "print(est.test_conditional_independence(\n",
        "    'Y3', 'Y2', ['Y4'], method=\"chi_square\", tol=0.05))\n",
        "\n",
        "print(est.test_conditional_independence(\n",
        "    'Y3', 'Y4', ['Y'], method=\"chi_square\", tol=0.05))\n",
        "print(est.test_conditional_independence(\n",
        "    'Y3', 'Y4', ['Y2'], method=\"chi_square\", tol=0.05))\n"
      ],
      "execution_count": 19,
      "outputs": [
        {
          "output_type": "stream",
          "text": [
            "False\n",
            "False\n",
            "False\n",
            "False\n",
            "False\n",
            "False\n"
          ],
          "name": "stdout"
        }
      ]
    },
    {
      "cell_type": "code",
      "metadata": {
        "id": "dFA5qoZ7Ldgg",
        "colab_type": "code",
        "outputId": "22eec1bd-3b15-47db-c371-fbddf8c053eb",
        "colab": {
          "base_uri": "https://localhost:8080/",
          "height": 87
        }
      },
      "source": [
        "# オリエンテーション・フェーズ1での方向づけ\n",
        "# x-Y-Y3\n",
        "print(est.test_conditional_independence(\n",
        "    'x', 'Y3', ['Y'], method=\"chi_square\", tol=0.05))\n",
        "\n",
        "# Z-Y-Y3\n",
        "print(est.test_conditional_independence(\n",
        "    'Z', 'Y3', ['Y'], method=\"chi_square\", tol=0.05))\n",
        "\n",
        "# Y-Y3-Y2\n",
        "print(est.test_conditional_independence(\n",
        "    'Y', 'Y2', ['Y3'], method=\"chi_square\", tol=0.05))\n",
        "\n",
        "# Y2-Y3-Y4\n",
        "print(est.test_conditional_independence(\n",
        "    'Y2', 'Y4', ['Y3'], method=\"chi_square\", tol=0.05))\n",
        "\n",
        "# Y -> Y3 <- Y2 だけ決まる\n"
      ],
      "execution_count": 20,
      "outputs": [
        {
          "output_type": "stream",
          "text": [
            "True\n",
            "True\n",
            "False\n",
            "True\n"
          ],
          "name": "stdout"
        }
      ]
    },
    {
      "cell_type": "code",
      "metadata": {
        "id": "kMW1M3YbMi3h",
        "colab_type": "code",
        "outputId": "bbef38c6-7c9b-4b6f-a70f-ce8a35b62f8b",
        "colab": {
          "base_uri": "https://localhost:8080/",
          "height": 122
        }
      },
      "source": [
        "# 最後上の三角形が決まらない\n",
        "# BICを求め、比較\n",
        "from pgmpy.models import BayesianModel\n",
        "from pgmpy.estimators import BicScore\n",
        "\n",
        "model = BayesianModel([('x', 'Z'), ('x', 'Y'), ('Z', 'Y'), ('Y', 'Y3'), ('Y2', 'Y3'), ('Y3', 'Y4')])  \n",
        "print(BicScore(df_bin).score(model))\n",
        "\n",
        "model = BayesianModel([('x', 'Z'), ('x', 'Y'), ('Y', 'Z'), ('Y', 'Y3'), ('Y2', 'Y3'), ('Y3', 'Y4')])  \n",
        "print(BicScore(df_bin).score(model))\n",
        "\n",
        "model = BayesianModel([('Z', 'x'), ('Z', 'Y'), ('x', 'Y'), ('Y', 'Y3'), ('Y2', 'Y3'), ('Y3', 'Y4')])  \n",
        "print(BicScore(df_bin).score(model))\n",
        "\n",
        "model = BayesianModel([('Z', 'x'), ('Z', 'Y'), ('Y', 'x'), ('Y', 'Y3'), ('Y2', 'Y3'), ('Y3', 'Y4')])  \n",
        "print(BicScore(df_bin).score(model))\n",
        "\n",
        "model = BayesianModel([('Y', 'x'), ('Y', 'Z'), ('x', 'Z'), ('Y', 'Y3'), ('Y2', 'Y3'), ('Y3', 'Y4')])  \n",
        "print(BicScore(df_bin).score(model))\n",
        "\n",
        "model = BayesianModel([('Y', 'x'), ('Y', 'Z'), ('Z', 'x'), ('Y', 'Y3'), ('Y2', 'Y3'), ('Y3', 'Y4')])  \n",
        "print(BicScore(df_bin).score(model))"
      ],
      "execution_count": 21,
      "outputs": [
        {
          "output_type": "stream",
          "text": [
            "-11844.323296552853\n",
            "-11844.323296552853\n",
            "-11844.323296552855\n",
            "-11844.323296552855\n",
            "-11844.323296552853\n",
            "-11844.323296552855\n"
          ],
          "name": "stdout"
        }
      ]
    },
    {
      "cell_type": "code",
      "metadata": {
        "id": "DP8gHiu7lBDi",
        "colab_type": "code",
        "colab": {}
      },
      "source": [
        "# 最後は限られたデータから無理に因果の方向性を決めようとせず、時間的に考えて、無難な方向性を当てはめる"
      ],
      "execution_count": 0,
      "outputs": []
    },
    {
      "cell_type": "markdown",
      "metadata": {
        "id": "VQs6FwtelB2E",
        "colab_type": "text"
      },
      "source": [
        "## ベイジアンネットワークでの推論"
      ]
    },
    {
      "cell_type": "code",
      "metadata": {
        "id": "_OGwPSHbjOV1",
        "colab_type": "code",
        "outputId": "8c2ffce4-134d-48f8-c67d-efc8340e7482",
        "colab": {
          "base_uri": "https://localhost:8080/",
          "height": 844
        }
      },
      "source": [
        "from pgmpy.models import BayesianModel\n",
        "from pgmpy.inference import VariableElimination\n",
        "\n",
        "# モデルを構築\n",
        "model = BayesianModel([('x', 'Z'), ('x', 'Y'), ('Z', 'Y'),\n",
        "                       ('Y', 'Y3'), ('Y2', 'Y3'), ('Y3', 'Y4')])\n",
        "# モデルにデータを与える\n",
        "model.fit(df_bin)\n",
        "\n",
        "# 変数消去アルゴリズムで推論\n",
        "infer = VariableElimination(model)\n",
        "obserbed_data = {'Z': 0, 'Y3': 3}  # 観測できているデータの一例\n",
        "x_dist = infer.query(['x'], evidence=obserbed_data)\n",
        "print(x_dist)\n",
        "print(\"=====================\")\n",
        "obserbed_data = {'Z': 1, 'Y3': 3}  # 観測できているデータの一例\n",
        "x_dist = infer.query(['x'], evidence=obserbed_data)\n",
        "print(x_dist)\n",
        "print(\"=====================\")\n",
        "obserbed_data = {'Z': 1, 'Y3': 5}  # 観測できているデータの一例\n",
        "x_dist = infer.query(['x'], evidence=obserbed_data)\n",
        "print(x_dist)\n"
      ],
      "execution_count": 23,
      "outputs": [
        {
          "output_type": "stream",
          "text": [
            "Finding Elimination Order: : 100%|██████████| 3/3 [00:00<00:00, 507.58it/s]\n",
            "Eliminating: Y: 100%|██████████| 3/3 [00:00<00:00, 491.44it/s]\n",
            "Finding Elimination Order: : 100%|██████████| 3/3 [00:00<00:00, 457.63it/s]\n",
            "Eliminating: Y: 100%|██████████| 3/3 [00:00<00:00, 284.88it/s]"
          ],
          "name": "stderr"
        },
        {
          "output_type": "stream",
          "text": [
            "+------+----------+\n",
            "| x    |   phi(x) |\n",
            "+======+==========+\n",
            "| x(1) |   0.0593 |\n",
            "+------+----------+\n",
            "| x(2) |   0.1029 |\n",
            "+------+----------+\n",
            "| x(3) |   0.1983 |\n",
            "+------+----------+\n",
            "| x(4) |   0.2692 |\n",
            "+------+----------+\n",
            "| x(5) |   0.3703 |\n",
            "+------+----------+\n",
            "=====================\n",
            "+------+----------+\n",
            "| x    |   phi(x) |\n",
            "+======+==========+\n",
            "| x(1) |   0.3715 |\n",
            "+------+----------+\n",
            "| x(2) |   0.2326 |\n",
            "+------+----------+\n",
            "| x(3) |   0.2290 |\n",
            "+------+----------+\n",
            "| x(4) |   0.1138 |\n",
            "+------+----------+\n",
            "| x(5) |   0.0532 |\n",
            "+------+----------+\n",
            "=====================\n"
          ],
          "name": "stdout"
        },
        {
          "output_type": "stream",
          "text": [
            "\n",
            "Finding Elimination Order: : 100%|██████████| 3/3 [00:00<00:00, 508.13it/s]\n",
            "Eliminating: Y: 100%|██████████| 3/3 [00:00<00:00, 553.19it/s]"
          ],
          "name": "stderr"
        },
        {
          "output_type": "stream",
          "text": [
            "+------+----------+\n",
            "| x    |   phi(x) |\n",
            "+======+==========+\n",
            "| x(1) |   0.0074 |\n",
            "+------+----------+\n",
            "| x(2) |   0.0107 |\n",
            "+------+----------+\n",
            "| x(3) |   0.0689 |\n",
            "+------+----------+\n",
            "| x(4) |   0.2942 |\n",
            "+------+----------+\n",
            "| x(5) |   0.6188 |\n",
            "+------+----------+\n"
          ],
          "name": "stdout"
        },
        {
          "output_type": "stream",
          "text": [
            "\n"
          ],
          "name": "stderr"
        }
      ]
    },
    {
      "cell_type": "code",
      "metadata": {
        "id": "UNbNZ8DFuQNF",
        "colab_type": "code",
        "colab": {}
      },
      "source": [
        "# 以下はファイルをダウンロードしたい場合に使用\n",
        "\n",
        "# from google.colab import files\n",
        "# df_bin.to_csv(\"df_bin.csv\")\n",
        "# files.download('df_bin.csv')\n"
      ],
      "execution_count": 0,
      "outputs": []
    },
    {
      "cell_type": "markdown",
      "metadata": {
        "colab_type": "text",
        "id": "MGNG7pzi8LI6"
      },
      "source": [
        "以上"
      ]
    }
  ]
}